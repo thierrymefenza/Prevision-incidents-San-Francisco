{
 "cells": [
  {
   "cell_type": "markdown",
   "id": "01a40844",
   "metadata": {},
   "source": [
    "<h1><center> Projet Machine Learning avec Python : </center></h1>\n",
    "<h1><center> Prédiction des incidents  à San Francisco </center></h1>\n",
    "\n"
   ]
  },
  {
   "cell_type": "markdown",
   "id": "225c0c1c",
   "metadata": {},
   "source": [
    "<h1><center> Partie 2 : Prédiction du nombre d'appels par heure, date et quartier <center></h1>"
   ]
  },
  {
   "cell_type": "code",
   "execution_count": 1,
   "id": "8edfe552",
   "metadata": {},
   "outputs": [],
   "source": [
    "import os\n",
    "\n",
    "import pandas as pd\n",
    "import numpy as np\n",
    "import matplotlib.pyplot as plt\n",
    "\n",
    "import seaborn as sns\n",
    "sns.set(rc={'figure.figsize':(11, 4)})\n",
    "\n",
    "from sklearn.pipeline import Pipeline\n",
    "from sklearn.compose import ColumnTransformer\n",
    "from sklearn.preprocessing import OneHotEncoder\n",
    "from sklearn.impute import SimpleImputer\n",
    "from sklearn.model_selection import GridSearchCV\n",
    "from sklearn.preprocessing import LabelEncoder\n",
    "from sklearn.model_selection import train_test_split\n",
    "from sklearn.metrics import confusion_matrix\n",
    "from sklearn.metrics import f1_score\n",
    "\n",
    "from sklearn.ensemble import RandomForestClassifier\n",
    "from sklearn.neighbors import KNeighborsClassifier\n",
    "\n",
    "import tensorflow as tf\n",
    "from tensorflow import keras"
   ]
  },
  {
   "cell_type": "markdown",
   "id": "10aa3e27",
   "metadata": {},
   "source": [
    "# Préparation de notre base de données pour la prédiction du nombre d'appels par heure, date et quartier"
   ]
  },
  {
   "cell_type": "code",
   "execution_count": 2,
   "id": "2876f28e",
   "metadata": {},
   "outputs": [],
   "source": [
    "path = 'C:/Users/Allard/Desktop/' # Change to path to data\n",
    "os.chdir(path)"
   ]
  },
  {
   "cell_type": "code",
   "execution_count": 3,
   "id": "558b5504",
   "metadata": {},
   "outputs": [
    {
     "name": "stderr",
     "output_type": "stream",
     "text": [
      "C:\\Users\\Allard\\anaconda3\\envs\\geopandas\\lib\\site-packages\\IPython\\core\\interactiveshell.py:3146: DtypeWarning: Columns (6) have mixed types.Specify dtype option on import or set low_memory=False.\n",
      "  has_raised = await self.run_ast_nodes(code_ast.body, cell_name,\n"
     ]
    }
   ],
   "source": [
    "df = pd.read_csv('Fire_Department_Calls_for_Service_reduced_V3.csv')"
   ]
  },
  {
   "cell_type": "markdown",
   "id": "13f83b0c",
   "metadata": {},
   "source": [
    "Nombre d'appels par heure, date et lieu"
   ]
  },
  {
   "cell_type": "code",
   "execution_count": 4,
   "id": "3ece8f43",
   "metadata": {},
   "outputs": [],
   "source": [
    "count_test = df.groupby(['year', 'month', 'day', 'hour', 'weekday', 'Neighborhooods - Analysis Boundaries']).size().reset_index(name='count')"
   ]
  },
  {
   "cell_type": "markdown",
   "id": "bdaf2b79",
   "metadata": {},
   "source": [
    "Création d'un dataframe contenant toutes les heures entre le 01/01/2012 et le 31/12/2020"
   ]
  },
  {
   "cell_type": "code",
   "execution_count": 5,
   "id": "16d44801",
   "metadata": {},
   "outputs": [],
   "source": [
    "df_2012_2020 = pd.DataFrame(\n",
    "        {'Received DtTm': pd.date_range('2012-01-01', '2021-01-01', freq='1H', closed='left')}\n",
    "     )"
   ]
  },
  {
   "cell_type": "markdown",
   "id": "9741b9d7",
   "metadata": {},
   "source": [
    "Produit cartésien entre les heures/dates et les 41 quartiers de San Francisco"
   ]
  },
  {
   "cell_type": "code",
   "execution_count": 6,
   "id": "4ae451f6",
   "metadata": {},
   "outputs": [],
   "source": [
    "df_cartesian = df_2012_2020.merge(pd.DataFrame(df['Neighborhooods - Analysis Boundaries'].unique(), columns=[\"Neighborhooods - Analysis Boundaries\"]), how='cross')\n",
    "\n",
    "df_cartesian['year'] = df_cartesian['Received DtTm'].dt.year\n",
    "df_cartesian['month'] = df_cartesian['Received DtTm'].dt.month\n",
    "df_cartesian['day'] = df_cartesian['Received DtTm'].dt.day\n",
    "df_cartesian['hour'] = df_cartesian['Received DtTm'].dt.hour\n",
    "df_cartesian[\"weekday\"] = df_cartesian['Received DtTm'].dt.day_name()\n",
    "\n",
    "\n",
    "df_cartesian = df_cartesian.drop(columns='Received DtTm')"
   ]
  },
  {
   "cell_type": "markdown",
   "id": "f80e4b9e",
   "metadata": {},
   "source": [
    "Fusion de nos 2 bases de données afin d'avoir pour chaque heure, date et lieu, le nombre d'appels (qui peut donc être nul)"
   ]
  },
  {
   "cell_type": "code",
   "execution_count": 7,
   "id": "1bde3bd0",
   "metadata": {},
   "outputs": [
    {
     "data": {
      "text/html": [
       "<div>\n",
       "<style scoped>\n",
       "    .dataframe tbody tr th:only-of-type {\n",
       "        vertical-align: middle;\n",
       "    }\n",
       "\n",
       "    .dataframe tbody tr th {\n",
       "        vertical-align: top;\n",
       "    }\n",
       "\n",
       "    .dataframe thead th {\n",
       "        text-align: right;\n",
       "    }\n",
       "</style>\n",
       "<table border=\"1\" class=\"dataframe\">\n",
       "  <thead>\n",
       "    <tr style=\"text-align: right;\">\n",
       "      <th></th>\n",
       "      <th>Neighborhooods - Analysis Boundaries</th>\n",
       "      <th>year</th>\n",
       "      <th>month</th>\n",
       "      <th>day</th>\n",
       "      <th>hour</th>\n",
       "      <th>weekday</th>\n",
       "      <th>count</th>\n",
       "    </tr>\n",
       "  </thead>\n",
       "  <tbody>\n",
       "    <tr>\n",
       "      <th>0</th>\n",
       "      <td>Financial District/South Beach</td>\n",
       "      <td>2012</td>\n",
       "      <td>1</td>\n",
       "      <td>1</td>\n",
       "      <td>0</td>\n",
       "      <td>Sunday</td>\n",
       "      <td>23.0</td>\n",
       "    </tr>\n",
       "    <tr>\n",
       "      <th>1</th>\n",
       "      <td>Western Addition</td>\n",
       "      <td>2012</td>\n",
       "      <td>1</td>\n",
       "      <td>1</td>\n",
       "      <td>0</td>\n",
       "      <td>Sunday</td>\n",
       "      <td>3.0</td>\n",
       "    </tr>\n",
       "    <tr>\n",
       "      <th>2</th>\n",
       "      <td>Hayes Valley</td>\n",
       "      <td>2012</td>\n",
       "      <td>1</td>\n",
       "      <td>1</td>\n",
       "      <td>0</td>\n",
       "      <td>Sunday</td>\n",
       "      <td>4.0</td>\n",
       "    </tr>\n",
       "    <tr>\n",
       "      <th>3</th>\n",
       "      <td>South of Market</td>\n",
       "      <td>2012</td>\n",
       "      <td>1</td>\n",
       "      <td>1</td>\n",
       "      <td>0</td>\n",
       "      <td>Sunday</td>\n",
       "      <td>4.0</td>\n",
       "    </tr>\n",
       "    <tr>\n",
       "      <th>4</th>\n",
       "      <td>Treasure Island</td>\n",
       "      <td>2012</td>\n",
       "      <td>1</td>\n",
       "      <td>1</td>\n",
       "      <td>0</td>\n",
       "      <td>Sunday</td>\n",
       "      <td>2.0</td>\n",
       "    </tr>\n",
       "    <tr>\n",
       "      <th>...</th>\n",
       "      <td>...</td>\n",
       "      <td>...</td>\n",
       "      <td>...</td>\n",
       "      <td>...</td>\n",
       "      <td>...</td>\n",
       "      <td>...</td>\n",
       "      <td>...</td>\n",
       "    </tr>\n",
       "    <tr>\n",
       "      <th>3235387</th>\n",
       "      <td>Presidio Heights</td>\n",
       "      <td>2020</td>\n",
       "      <td>12</td>\n",
       "      <td>31</td>\n",
       "      <td>23</td>\n",
       "      <td>Thursday</td>\n",
       "      <td>0.0</td>\n",
       "    </tr>\n",
       "    <tr>\n",
       "      <th>3235388</th>\n",
       "      <td>Seacliff</td>\n",
       "      <td>2020</td>\n",
       "      <td>12</td>\n",
       "      <td>31</td>\n",
       "      <td>23</td>\n",
       "      <td>Thursday</td>\n",
       "      <td>0.0</td>\n",
       "    </tr>\n",
       "    <tr>\n",
       "      <th>3235389</th>\n",
       "      <td>Glen Park</td>\n",
       "      <td>2020</td>\n",
       "      <td>12</td>\n",
       "      <td>31</td>\n",
       "      <td>23</td>\n",
       "      <td>Thursday</td>\n",
       "      <td>0.0</td>\n",
       "    </tr>\n",
       "    <tr>\n",
       "      <th>3235390</th>\n",
       "      <td>McLaren Park</td>\n",
       "      <td>2020</td>\n",
       "      <td>12</td>\n",
       "      <td>31</td>\n",
       "      <td>23</td>\n",
       "      <td>Thursday</td>\n",
       "      <td>0.0</td>\n",
       "    </tr>\n",
       "    <tr>\n",
       "      <th>3235391</th>\n",
       "      <td>Lincoln Park</td>\n",
       "      <td>2020</td>\n",
       "      <td>12</td>\n",
       "      <td>31</td>\n",
       "      <td>23</td>\n",
       "      <td>Thursday</td>\n",
       "      <td>0.0</td>\n",
       "    </tr>\n",
       "  </tbody>\n",
       "</table>\n",
       "<p>3235392 rows × 7 columns</p>\n",
       "</div>"
      ],
      "text/plain": [
       "        Neighborhooods - Analysis Boundaries  year  month  day  hour  \\\n",
       "0             Financial District/South Beach  2012      1    1     0   \n",
       "1                           Western Addition  2012      1    1     0   \n",
       "2                               Hayes Valley  2012      1    1     0   \n",
       "3                            South of Market  2012      1    1     0   \n",
       "4                            Treasure Island  2012      1    1     0   \n",
       "...                                      ...   ...    ...  ...   ...   \n",
       "3235387                     Presidio Heights  2020     12   31    23   \n",
       "3235388                             Seacliff  2020     12   31    23   \n",
       "3235389                            Glen Park  2020     12   31    23   \n",
       "3235390                         McLaren Park  2020     12   31    23   \n",
       "3235391                         Lincoln Park  2020     12   31    23   \n",
       "\n",
       "          weekday  count  \n",
       "0          Sunday   23.0  \n",
       "1          Sunday    3.0  \n",
       "2          Sunday    4.0  \n",
       "3          Sunday    4.0  \n",
       "4          Sunday    2.0  \n",
       "...           ...    ...  \n",
       "3235387  Thursday    0.0  \n",
       "3235388  Thursday    0.0  \n",
       "3235389  Thursday    0.0  \n",
       "3235390  Thursday    0.0  \n",
       "3235391  Thursday    0.0  \n",
       "\n",
       "[3235392 rows x 7 columns]"
      ]
     },
     "execution_count": 7,
     "metadata": {},
     "output_type": "execute_result"
    }
   ],
   "source": [
    "result = pd.merge(df_cartesian, count_test, on=[\"year\", \"month\", \"day\", \"hour\", \"weekday\", \"Neighborhooods - Analysis Boundaries\"], how='left')\n",
    "\n",
    "result = result.fillna(0)\n",
    "\n",
    "result"
   ]
  },
  {
   "cell_type": "markdown",
   "id": "2b55759d",
   "metadata": {},
   "source": [
    "On essaie de predire si le nombre d'appel est égale à 0, 1, 2, 3, ou alors supérieur ou égale à 4"
   ]
  },
  {
   "cell_type": "code",
   "execution_count": 8,
   "id": "8bce9206",
   "metadata": {},
   "outputs": [],
   "source": [
    "result.loc[result['count'] >= 4, 'count'] = 4"
   ]
  },
  {
   "cell_type": "markdown",
   "id": "2bb1f052",
   "metadata": {},
   "source": [
    "On encode les colonnes textuelles en integer"
   ]
  },
  {
   "cell_type": "code",
   "execution_count": 9,
   "id": "ecfcf750",
   "metadata": {},
   "outputs": [],
   "source": [
    "result['Neighborhooods - Analysis Boundaries'] = result['Neighborhooods - Analysis Boundaries'].astype('category')\n",
    "result['Neighborhooods - Analysis Boundaries'] = result['Neighborhooods - Analysis Boundaries'].cat.codes\n",
    "\n",
    "result['weekday'] = result['weekday'].astype('category')\n",
    "result['weekday'] = result['weekday'].cat.codes"
   ]
  },
  {
   "cell_type": "markdown",
   "id": "e00ec3da",
   "metadata": {},
   "source": [
    "Notre base de données est très grande pour accélérer les algo de ML nous limiterons nos données aux années 2017-2018-2019"
   ]
  },
  {
   "cell_type": "code",
   "execution_count": 10,
   "id": "e3812c6f",
   "metadata": {},
   "outputs": [],
   "source": [
    "result = result[(result['year']>2016) & (result['year']<2020)]"
   ]
  },
  {
   "cell_type": "code",
   "execution_count": 11,
   "id": "9d53aaa5",
   "metadata": {},
   "outputs": [
    {
     "data": {
      "text/html": [
       "<div>\n",
       "<style scoped>\n",
       "    .dataframe tbody tr th:only-of-type {\n",
       "        vertical-align: middle;\n",
       "    }\n",
       "\n",
       "    .dataframe tbody tr th {\n",
       "        vertical-align: top;\n",
       "    }\n",
       "\n",
       "    .dataframe thead th {\n",
       "        text-align: right;\n",
       "    }\n",
       "</style>\n",
       "<table border=\"1\" class=\"dataframe\">\n",
       "  <thead>\n",
       "    <tr style=\"text-align: right;\">\n",
       "      <th></th>\n",
       "      <th>Neighborhooods - Analysis Boundaries</th>\n",
       "      <th>year</th>\n",
       "      <th>month</th>\n",
       "      <th>day</th>\n",
       "      <th>hour</th>\n",
       "      <th>weekday</th>\n",
       "      <th>count</th>\n",
       "    </tr>\n",
       "  </thead>\n",
       "  <tbody>\n",
       "    <tr>\n",
       "      <th>1797768</th>\n",
       "      <td>5</td>\n",
       "      <td>2017</td>\n",
       "      <td>1</td>\n",
       "      <td>1</td>\n",
       "      <td>0</td>\n",
       "      <td>3</td>\n",
       "      <td>4.0</td>\n",
       "    </tr>\n",
       "    <tr>\n",
       "      <th>1797769</th>\n",
       "      <td>40</td>\n",
       "      <td>2017</td>\n",
       "      <td>1</td>\n",
       "      <td>1</td>\n",
       "      <td>0</td>\n",
       "      <td>3</td>\n",
       "      <td>0.0</td>\n",
       "    </tr>\n",
       "    <tr>\n",
       "      <th>1797770</th>\n",
       "      <td>9</td>\n",
       "      <td>2017</td>\n",
       "      <td>1</td>\n",
       "      <td>1</td>\n",
       "      <td>0</td>\n",
       "      <td>3</td>\n",
       "      <td>1.0</td>\n",
       "    </tr>\n",
       "    <tr>\n",
       "      <th>1797771</th>\n",
       "      <td>33</td>\n",
       "      <td>2017</td>\n",
       "      <td>1</td>\n",
       "      <td>1</td>\n",
       "      <td>0</td>\n",
       "      <td>3</td>\n",
       "      <td>4.0</td>\n",
       "    </tr>\n",
       "    <tr>\n",
       "      <th>1797772</th>\n",
       "      <td>36</td>\n",
       "      <td>2017</td>\n",
       "      <td>1</td>\n",
       "      <td>1</td>\n",
       "      <td>0</td>\n",
       "      <td>3</td>\n",
       "      <td>0.0</td>\n",
       "    </tr>\n",
       "    <tr>\n",
       "      <th>...</th>\n",
       "      <td>...</td>\n",
       "      <td>...</td>\n",
       "      <td>...</td>\n",
       "      <td>...</td>\n",
       "      <td>...</td>\n",
       "      <td>...</td>\n",
       "      <td>...</td>\n",
       "    </tr>\n",
       "    <tr>\n",
       "      <th>2875243</th>\n",
       "      <td>30</td>\n",
       "      <td>2019</td>\n",
       "      <td>12</td>\n",
       "      <td>31</td>\n",
       "      <td>23</td>\n",
       "      <td>5</td>\n",
       "      <td>0.0</td>\n",
       "    </tr>\n",
       "    <tr>\n",
       "      <th>2875244</th>\n",
       "      <td>32</td>\n",
       "      <td>2019</td>\n",
       "      <td>12</td>\n",
       "      <td>31</td>\n",
       "      <td>23</td>\n",
       "      <td>5</td>\n",
       "      <td>0.0</td>\n",
       "    </tr>\n",
       "    <tr>\n",
       "      <th>2875245</th>\n",
       "      <td>6</td>\n",
       "      <td>2019</td>\n",
       "      <td>12</td>\n",
       "      <td>31</td>\n",
       "      <td>23</td>\n",
       "      <td>5</td>\n",
       "      <td>0.0</td>\n",
       "    </tr>\n",
       "    <tr>\n",
       "      <th>2875246</th>\n",
       "      <td>17</td>\n",
       "      <td>2019</td>\n",
       "      <td>12</td>\n",
       "      <td>31</td>\n",
       "      <td>23</td>\n",
       "      <td>5</td>\n",
       "      <td>0.0</td>\n",
       "    </tr>\n",
       "    <tr>\n",
       "      <th>2875247</th>\n",
       "      <td>14</td>\n",
       "      <td>2019</td>\n",
       "      <td>12</td>\n",
       "      <td>31</td>\n",
       "      <td>23</td>\n",
       "      <td>5</td>\n",
       "      <td>0.0</td>\n",
       "    </tr>\n",
       "  </tbody>\n",
       "</table>\n",
       "<p>1077480 rows × 7 columns</p>\n",
       "</div>"
      ],
      "text/plain": [
       "         Neighborhooods - Analysis Boundaries  year  month  day  hour  \\\n",
       "1797768                                     5  2017      1    1     0   \n",
       "1797769                                    40  2017      1    1     0   \n",
       "1797770                                     9  2017      1    1     0   \n",
       "1797771                                    33  2017      1    1     0   \n",
       "1797772                                    36  2017      1    1     0   \n",
       "...                                       ...   ...    ...  ...   ...   \n",
       "2875243                                    30  2019     12   31    23   \n",
       "2875244                                    32  2019     12   31    23   \n",
       "2875245                                     6  2019     12   31    23   \n",
       "2875246                                    17  2019     12   31    23   \n",
       "2875247                                    14  2019     12   31    23   \n",
       "\n",
       "         weekday  count  \n",
       "1797768        3    4.0  \n",
       "1797769        3    0.0  \n",
       "1797770        3    1.0  \n",
       "1797771        3    4.0  \n",
       "1797772        3    0.0  \n",
       "...          ...    ...  \n",
       "2875243        5    0.0  \n",
       "2875244        5    0.0  \n",
       "2875245        5    0.0  \n",
       "2875246        5    0.0  \n",
       "2875247        5    0.0  \n",
       "\n",
       "[1077480 rows x 7 columns]"
      ]
     },
     "execution_count": 11,
     "metadata": {},
     "output_type": "execute_result"
    }
   ],
   "source": [
    "result"
   ]
  },
  {
   "cell_type": "code",
   "execution_count": 12,
   "id": "c04b4a96",
   "metadata": {},
   "outputs": [],
   "source": [
    "y = result[\"count\"]\n",
    "X = result.drop(columns = [\"count\",\"year\"], axis=1)"
   ]
  },
  {
   "cell_type": "markdown",
   "id": "cd433555",
   "metadata": {},
   "source": [
    "Regardons la répartition du nombre d'appels"
   ]
  },
  {
   "cell_type": "code",
   "execution_count": 13,
   "id": "6b5d3708",
   "metadata": {},
   "outputs": [
    {
     "data": {
      "text/plain": [
       "count\n",
       "0.0    785011\n",
       "1.0    200287\n",
       "2.0     56414\n",
       "3.0     20573\n",
       "4.0     15195\n",
       "Name: count, dtype: int64"
      ]
     },
     "execution_count": 13,
     "metadata": {},
     "output_type": "execute_result"
    }
   ],
   "source": [
    "y.groupby(y).size()"
   ]
  },
  {
   "cell_type": "code",
   "execution_count": 14,
   "id": "4367a569",
   "metadata": {},
   "outputs": [
    {
     "name": "stdout",
     "output_type": "stream",
     "text": [
      "Le pourcentage de 0 dans nos outputs est: 72.9%\n",
      "Le pourcentage de 1 dans nos outputs est: 18.6%\n",
      "Le pourcentage de 2 dans nos outputs est: 5.2%\n",
      "Le pourcentage de 3 dans nos outputs est: 1.9%\n",
      "Le pourcentage de 4 dans nos outputs est: 1.4%\n"
     ]
    }
   ],
   "source": [
    "for i in range (5):\n",
    "    print('Le pourcentage de ' + str(i) + ' dans nos outputs est: {}%'.format(round(y.groupby(y).size()[i]/len(y)*100,1)))"
   ]
  },
  {
   "cell_type": "markdown",
   "id": "b9d34699",
   "metadata": {},
   "source": [
    "On peut voir que la classe 0 est sur-représenté avec environ 73%. Ensuite il va falloir faire attention dans nos prédiction de regarder si les autres classes sont bien prédites car il est très facile d'avoir une accuracy de 73% sur notre modèle."
   ]
  },
  {
   "cell_type": "markdown",
   "id": "8e6c693a",
   "metadata": {},
   "source": [
    "# PREDICTION AVEC RN"
   ]
  },
  {
   "cell_type": "markdown",
   "id": "b12c77d1",
   "metadata": {},
   "source": [
    "Pour notre premier modèle, nous allons utiliser un réseau de neurones (RN) avec 2 couches cachées constituées de 50 neurones. La couche de sortie sera constituée de 5 neurones pour nos 5 classes (0, 1, 2, 3, 4) avec une fonction d'activation softmax qui nous permettra d'obtenir la probabilité de chaque classe est d'en déduire la prédiction en prenant la probabilité la plus forte."
   ]
  },
  {
   "cell_type": "markdown",
   "id": "82b064fe",
   "metadata": {},
   "source": [
    "Dans premier temps, nous préparons notre jeu de données en effectuer une réduction d'echelle (MinMax) afin que le RN converge plus rapidement. Puis nous effecture une transformation OneHotEncoder pour créer 5 colonnes en sortie afin d'obtenir la probabilité de chaque classe."
   ]
  },
  {
   "cell_type": "code",
   "execution_count": 15,
   "id": "4914b004",
   "metadata": {},
   "outputs": [],
   "source": [
    "from sklearn.preprocessing import OneHotEncoder\n",
    "from numpy import array\n",
    "from numpy import argmax\n",
    "from sklearn.preprocessing import MinMaxScaler\n",
    "\n",
    "scaler = MinMaxScaler()\n",
    "X_reduced = scaler.fit_transform(X)\n",
    "\n",
    "# one hot encode\n",
    "y_reduced = tf.keras.utils.to_categorical(y)\n",
    "\n",
    "X_train, X_test, y_train, y_test = train_test_split(X_reduced, y_reduced, test_size=0.2)\n"
   ]
  },
  {
   "cell_type": "code",
   "execution_count": 16,
   "id": "1f84eef3",
   "metadata": {},
   "outputs": [],
   "source": [
    "model_soft = tf.keras.models.Sequential([\n",
    "    tf.keras.layers.Flatten(input_shape=[5]),\n",
    "    tf.keras.layers.Dense(20, activation='relu'),\n",
    "    tf.keras.layers.Dropout(0.2),\n",
    "    tf.keras.layers.Dense(20, activation='relu'),\n",
    "    tf.keras.layers.Dropout(0.2),\n",
    "    tf.keras.layers.Dense(5, activation='softmax')\n",
    "])\n",
    "\n",
    "model_soft.compile(\n",
    "  optimizer='adam',\n",
    "  loss=\"categorical_crossentropy\",\n",
    "  metrics=[tf.keras.metrics.CategoricalAccuracy()])"
   ]
  },
  {
   "cell_type": "code",
   "execution_count": 17,
   "id": "f8c2e8f9",
   "metadata": {},
   "outputs": [
    {
     "name": "stdout",
     "output_type": "stream",
     "text": [
      "Epoch 1/10\n",
      "5388/5388 [==============================] - 9s 2ms/step - loss: 0.8406 - categorical_accuracy: 0.7260 - val_loss: 0.8143 - val_categorical_accuracy: 0.7301\n",
      "Epoch 2/10\n",
      "5388/5388 [==============================] - 8s 2ms/step - loss: 0.8175 - categorical_accuracy: 0.7283 - val_loss: 0.8050 - val_categorical_accuracy: 0.7301\n",
      "Epoch 3/10\n",
      "5388/5388 [==============================] - 8s 2ms/step - loss: 0.8044 - categorical_accuracy: 0.7283 - val_loss: 0.7857 - val_categorical_accuracy: 0.7301\n",
      "Epoch 4/10\n",
      "5388/5388 [==============================] - 8s 2ms/step - loss: 0.7923 - categorical_accuracy: 0.7283 - val_loss: 0.7749 - val_categorical_accuracy: 0.7301\n",
      "Epoch 5/10\n",
      "5388/5388 [==============================] - 8s 2ms/step - loss: 0.7863 - categorical_accuracy: 0.7283 - val_loss: 0.7724 - val_categorical_accuracy: 0.7301\n",
      "Epoch 6/10\n",
      "5388/5388 [==============================] - 8s 2ms/step - loss: 0.7827 - categorical_accuracy: 0.7283 - val_loss: 0.7691 - val_categorical_accuracy: 0.7301\n",
      "Epoch 7/10\n",
      "5388/5388 [==============================] - 8s 2ms/step - loss: 0.7802 - categorical_accuracy: 0.7283 - val_loss: 0.7690 - val_categorical_accuracy: 0.7301\n",
      "Epoch 8/10\n",
      "5388/5388 [==============================] - 8s 2ms/step - loss: 0.7783 - categorical_accuracy: 0.7283 - val_loss: 0.7652 - val_categorical_accuracy: 0.7301\n",
      "Epoch 9/10\n",
      "5388/5388 [==============================] - 8s 2ms/step - loss: 0.7773 - categorical_accuracy: 0.7282 - val_loss: 0.7656 - val_categorical_accuracy: 0.7301\n",
      "Epoch 10/10\n",
      "5388/5388 [==============================] - 8s 2ms/step - loss: 0.7757 - categorical_accuracy: 0.7281 - val_loss: 0.7634 - val_categorical_accuracy: 0.7301\n"
     ]
    }
   ],
   "source": [
    "history_soft = model_soft.fit(X_train, y_train, epochs=10, batch_size=128, validation_split=0.2)"
   ]
  },
  {
   "cell_type": "code",
   "execution_count": 18,
   "id": "b1198f76",
   "metadata": {},
   "outputs": [
    {
     "name": "stdout",
     "output_type": "stream",
     "text": [
      "6735/6735 [==============================] - 6s 822us/step - loss: 0.7669 - categorical_accuracy: 0.7283\n"
     ]
    },
    {
     "data": {
      "text/plain": [
       "[0.7669259905815125, 0.7283430099487305]"
      ]
     },
     "execution_count": 18,
     "metadata": {},
     "output_type": "execute_result"
    }
   ],
   "source": [
    "model_soft.evaluate(X_test, y_test)"
   ]
  },
  {
   "cell_type": "markdown",
   "id": "48903545",
   "metadata": {},
   "source": [
    "Notre modèle est évalué avec une performance d'accuracy (72.8%), qui est un score plutôt convenable au premier abord mais qui ressemble étrangement au même pourcentage de la classe 0. "
   ]
  },
  {
   "cell_type": "markdown",
   "id": "7a1b5767",
   "metadata": {},
   "source": [
    "Regardons de plus près les prédictions faites:"
   ]
  },
  {
   "cell_type": "code",
   "execution_count": 19,
   "id": "494b41ee",
   "metadata": {},
   "outputs": [],
   "source": [
    "y_pred = model_soft.predict(X_test)"
   ]
  },
  {
   "cell_type": "code",
   "execution_count": 20,
   "id": "a57b5480",
   "metadata": {},
   "outputs": [],
   "source": [
    "yhat = np.argmax(y_pred, axis=1)"
   ]
  },
  {
   "cell_type": "code",
   "execution_count": 21,
   "id": "b953cbcd",
   "metadata": {},
   "outputs": [
    {
     "data": {
      "text/plain": [
       "array([0, 0, 0, 0, 0, 0, 0, 0, 0, 0, 0, 0, 0, 0, 0, 0, 0, 0, 0, 0, 0, 0,\n",
       "       0, 0, 0, 0, 0, 0, 0, 0, 0, 0, 0, 0, 0, 0, 0, 0, 0, 0, 0, 0, 0, 0,\n",
       "       0, 0, 0, 0, 0, 0, 0, 0, 0, 0, 0, 0, 0, 0, 0, 0, 0, 0, 0, 0, 0, 0,\n",
       "       0, 0, 0, 0, 0, 0, 0, 0, 0, 0, 0, 0, 0, 0, 0, 0, 0, 0, 0, 0, 0, 0,\n",
       "       0, 0, 0, 0, 0, 0, 0, 0, 0, 0, 0, 0], dtype=int64)"
      ]
     },
     "execution_count": 21,
     "metadata": {},
     "output_type": "execute_result"
    }
   ],
   "source": [
    "yhat[:100]"
   ]
  },
  {
   "cell_type": "code",
   "execution_count": 22,
   "id": "e1536bf6",
   "metadata": {},
   "outputs": [],
   "source": [
    "y_true = argmax(y_test, axis=1)"
   ]
  },
  {
   "cell_type": "code",
   "execution_count": 23,
   "id": "8a4f2359",
   "metadata": {},
   "outputs": [
    {
     "data": {
      "text/plain": [
       "array([0, 1, 0, 1, 0, 0, 0, 0, 2, 0, 0, 1, 0, 0, 0, 0, 0, 1, 0, 0, 0, 0,\n",
       "       0, 1, 0, 0, 1, 2, 0, 0, 1, 0, 1, 2, 0, 0, 0, 4, 3, 0, 0, 0, 0, 2,\n",
       "       0, 1, 0, 2, 0, 1, 1, 1, 1, 0, 1, 0, 0, 0, 0, 0, 0, 0, 0, 0, 2, 1,\n",
       "       0, 0, 0, 1, 1, 0, 0, 0, 0, 0, 0, 0, 0, 0, 0, 0, 0, 0, 0, 0, 2, 1,\n",
       "       0, 1, 2, 0, 0, 4, 0, 1, 0, 0, 1, 0], dtype=int64)"
      ]
     },
     "execution_count": 23,
     "metadata": {},
     "output_type": "execute_result"
    }
   ],
   "source": [
    "y_true[:100]"
   ]
  },
  {
   "cell_type": "code",
   "execution_count": 24,
   "id": "b571c3ac",
   "metadata": {},
   "outputs": [
    {
     "data": {
      "text/plain": [
       "215496"
      ]
     },
     "execution_count": 24,
     "metadata": {},
     "output_type": "execute_result"
    }
   ],
   "source": [
    "sum(yhat==0)"
   ]
  },
  {
   "cell_type": "code",
   "execution_count": 25,
   "id": "130cc2ad",
   "metadata": {},
   "outputs": [
    {
     "data": {
      "text/plain": [
       "(215496,)"
      ]
     },
     "execution_count": 25,
     "metadata": {},
     "output_type": "execute_result"
    }
   ],
   "source": [
    "yhat.shape"
   ]
  },
  {
   "cell_type": "markdown",
   "id": "d0567c47",
   "metadata": {},
   "source": [
    "Nous pouvons nous apercevoir que notre modèle prédit toujours 0. Etant donné que la classe 0 est majoriatire (environ 73%) nous avons une accuracy correcte mais qui ne correspond pas du tout à ce que nous souhaitons. Il nous faut plutôt regarder le recall ou le F1-score qui prennent en considération les False Négative (FN) en particulier dans les classes 1, 2, 3 et 4."
   ]
  },
  {
   "cell_type": "code",
   "execution_count": 26,
   "id": "e9f31258",
   "metadata": {},
   "outputs": [
    {
     "data": {
      "text/plain": [
       "0.6138636936764467"
      ]
     },
     "execution_count": 26,
     "metadata": {},
     "output_type": "execute_result"
    }
   ],
   "source": [
    "f1_score(y_true, yhat, average='weighted')"
   ]
  },
  {
   "cell_type": "code",
   "execution_count": 27,
   "id": "2bbf48fb",
   "metadata": {},
   "outputs": [
    {
     "data": {
      "text/plain": [
       "array([0.84282228, 0.        , 0.        , 0.        , 0.        ])"
      ]
     },
     "execution_count": 27,
     "metadata": {},
     "output_type": "execute_result"
    }
   ],
   "source": [
    "f1_score(y_true, yhat, average=None)"
   ]
  },
  {
   "cell_type": "markdown",
   "id": "18371823",
   "metadata": {},
   "source": [
    "Nous allons partir sur des techniques de ML plutôt qu'essayer de paramétrer notre RN."
   ]
  },
  {
   "cell_type": "markdown",
   "id": "8d8590e4",
   "metadata": {},
   "source": [
    "# PREDICTION AVEC RF"
   ]
  },
  {
   "cell_type": "code",
   "execution_count": 28,
   "id": "f0e8b2cf",
   "metadata": {},
   "outputs": [],
   "source": [
    "X_train, X_test, y_train, y_test = train_test_split(X, y, test_size=0.2)"
   ]
  },
  {
   "cell_type": "code",
   "execution_count": 29,
   "id": "141d0f71",
   "metadata": {},
   "outputs": [
    {
     "name": "stdout",
     "output_type": "stream",
     "text": [
      "Returned hyperparameter: {'n_estimators': 50}\n",
      "Best Balanced accuracy in train is: 0.7075676578683595\n",
      "Classification accuracy on test is: 0.7064446671863979\n",
      "Wall time: 7min 33s\n"
     ]
    }
   ],
   "source": [
    "%%time\n",
    "#Prédiction avec les forêts aléatoires\n",
    "rf=RandomForestClassifier()\n",
    "parameters={'n_estimators': [25, 50]}  # defining parameter space\n",
    "\n",
    "clf_rf= GridSearchCV(estimator=rf, param_grid=parameters, cv= 3)\n",
    "clf_rf.fit(X_train, y_train)\n",
    "\n",
    "print('Returned hyperparameter: {}'.format(clf_rf.best_params_))\n",
    "print('Best Balanced accuracy in train is: {}'.format(clf_rf.best_score_))\n",
    "print('Classification accuracy on test is: {}'.format(clf_rf.score(X_test, y_test)))"
   ]
  },
  {
   "cell_type": "code",
   "execution_count": 30,
   "id": "be079f8d",
   "metadata": {},
   "outputs": [],
   "source": [
    "y_hat_rf = clf_rf.predict(X_test)"
   ]
  },
  {
   "cell_type": "markdown",
   "id": "cfa7fee3",
   "metadata": {},
   "source": [
    "Nous allons observer la matrice de confusion qui nous permet de vérifier rapidement si notre modèle classifie correctement ou non."
   ]
  },
  {
   "cell_type": "code",
   "execution_count": 31,
   "id": "c69955d7",
   "metadata": {},
   "outputs": [
    {
     "data": {
      "text/plain": [
       "array([[143722,  10831,   1698,    470,    262],\n",
       "       [ 30829,   6059,   1784,    703,    571],\n",
       "       [  6128,   2701,   1271,    692,    627],\n",
       "       [  1231,   1057,    787,    473,    526],\n",
       "       [   425,    717,    708,    513,    711]], dtype=int64)"
      ]
     },
     "execution_count": 31,
     "metadata": {},
     "output_type": "execute_result"
    }
   ],
   "source": [
    "confusion_matrix(y_test, y_hat_rf)"
   ]
  },
  {
   "cell_type": "markdown",
   "id": "09dd02b8",
   "metadata": {},
   "source": [
    "Puis maintenant regardons le F1-score qui est une valeur quantifiant la performance de notre modèle."
   ]
  },
  {
   "cell_type": "code",
   "execution_count": 32,
   "id": "120be5df",
   "metadata": {},
   "outputs": [
    {
     "data": {
      "text/plain": [
       "0.6674653616878513"
      ]
     },
     "execution_count": 32,
     "metadata": {},
     "output_type": "execute_result"
    }
   ],
   "source": [
    "f1_score(y_test, y_hat_rf, average='weighted')"
   ]
  },
  {
   "cell_type": "code",
   "execution_count": 33,
   "id": "c96e3193",
   "metadata": {},
   "outputs": [
    {
     "data": {
      "text/plain": [
       "array([0.84712276, 0.19764806, 0.14388408, 0.1366065 , 0.24640444])"
      ]
     },
     "execution_count": 33,
     "metadata": {},
     "output_type": "execute_result"
    }
   ],
   "source": [
    "f1_score(y_test, y_hat_rf, average=None)"
   ]
  },
  {
   "cell_type": "markdown",
   "id": "2f7d4a36",
   "metadata": {},
   "source": [
    "Nous pouvons voir que la classe 0 (aucun appel dans l'heure) est plutôt correctement classifié alors que les autres classes (c'est à dire au moins appel) ne dépasse pas un score F1 de 0.24 ce qui est relativement faible. Ceci peut s'expliquer par le fait que la classe 0 est sur-représenté et que nos variables (inputs) n'explique pas suffisamment qu'il y ait des appels ou non."
   ]
  },
  {
   "cell_type": "markdown",
   "id": "08ae71db",
   "metadata": {},
   "source": [
    "# PREDICTION AVEC KNN"
   ]
  },
  {
   "cell_type": "code",
   "execution_count": 34,
   "id": "e0dad48f",
   "metadata": {},
   "outputs": [
    {
     "name": "stdout",
     "output_type": "stream",
     "text": [
      "Returned hyperparameter: {'n_neighbors': 4}\n",
      "Best Balanced accuracy in train is: 0.7108612224820878\n",
      "Classification accuracy on test is: 0.7123473289527416\n",
      "Wall time: 5min 2s\n"
     ]
    }
   ],
   "source": [
    "%%time\n",
    "#Prédiction avec les plus proches voisins\n",
    "knn=KNeighborsClassifier()\n",
    "parameters={'n_neighbors': [2, 3, 4, 5]}  # defining parameter space\n",
    "\n",
    "clf_knn = GridSearchCV(estimator=knn, param_grid=parameters, cv= 3)\n",
    "clf_knn.fit(X_train, y_train)\n",
    "\n",
    "print('Returned hyperparameter: {}'.format(clf_knn.best_params_))\n",
    "print('Best Balanced accuracy in train is: {}'.format(clf_knn.best_score_))\n",
    "print('Classification accuracy on test is: {}'.format(clf_knn.score(X_test, y_test)))"
   ]
  },
  {
   "cell_type": "code",
   "execution_count": 35,
   "id": "ade24d14",
   "metadata": {},
   "outputs": [],
   "source": [
    "y_hat_knn = clf_knn.predict(X_test)"
   ]
  },
  {
   "cell_type": "code",
   "execution_count": 36,
   "id": "f6b339c9",
   "metadata": {},
   "outputs": [
    {
     "data": {
      "text/plain": [
       "array([[148466,   7193,   1038,    173,    113],\n",
       "       [ 34673,   3982,    812,    265,    214],\n",
       "       [  8561,   1800,    582,    249,    227],\n",
       "       [  2593,    728,    381,    169,    203],\n",
       "       [  1632,    553,    380,    200,    309]], dtype=int64)"
      ]
     },
     "execution_count": 36,
     "metadata": {},
     "output_type": "execute_result"
    }
   ],
   "source": [
    "confusion_matrix(y_test, y_hat_knn)"
   ]
  },
  {
   "cell_type": "code",
   "execution_count": 37,
   "id": "1e664181",
   "metadata": {},
   "outputs": [
    {
     "data": {
      "text/plain": [
       "0.6477597924624308"
      ]
     },
     "execution_count": 37,
     "metadata": {},
     "output_type": "execute_result"
    }
   ],
   "source": [
    "f1_score(y_test, y_hat_knn, average='weighted')"
   ]
  },
  {
   "cell_type": "code",
   "execution_count": 38,
   "id": "3e5bc7fb",
   "metadata": {},
   "outputs": [
    {
     "data": {
      "text/plain": [
       "array([0.84138642, 0.14693185, 0.07966055, 0.06588694, 0.14927536])"
      ]
     },
     "execution_count": 38,
     "metadata": {},
     "output_type": "execute_result"
    }
   ],
   "source": [
    "f1_score(y_test, y_hat_knn, average=None)"
   ]
  },
  {
   "cell_type": "markdown",
   "id": "e513b2c5",
   "metadata": {},
   "source": [
    "Les résultats sont encore moins bons qu'avec un Random Forest. Nous devons essayer de trouver un moyen d'améliorer notre modèle en ajoutant de nouvelles variables telles que la météo ou les jours fériés au USA qui pourront peut-être expliquer le nombre d'appels par heure."
   ]
  },
  {
   "cell_type": "markdown",
   "id": "6f85edcd",
   "metadata": {},
   "source": [
    "# Amélioration du modèle en ajoutant la météo"
   ]
  },
  {
   "cell_type": "markdown",
   "id": "b2cae0c6",
   "metadata": {},
   "source": [
    "On peut penser que la météo peut avoir un rôle à jouer car si le temps est ensoleillé les gens seront surement plus à même de sortir de chez eux et donc se avoir un accident par exemple ou bien qu'il y ait un cambriolage etc...\n",
    "Regardons si la météo joue un rôle dans le nombre d'appels "
   ]
  },
  {
   "cell_type": "code",
   "execution_count": 39,
   "id": "5efdd7b5",
   "metadata": {},
   "outputs": [],
   "source": [
    "weather = pd.read_csv('weather_description.csv')"
   ]
  },
  {
   "cell_type": "code",
   "execution_count": 40,
   "id": "13366214",
   "metadata": {},
   "outputs": [
    {
     "data": {
      "text/html": [
       "<div>\n",
       "<style scoped>\n",
       "    .dataframe tbody tr th:only-of-type {\n",
       "        vertical-align: middle;\n",
       "    }\n",
       "\n",
       "    .dataframe tbody tr th {\n",
       "        vertical-align: top;\n",
       "    }\n",
       "\n",
       "    .dataframe thead th {\n",
       "        text-align: right;\n",
       "    }\n",
       "</style>\n",
       "<table border=\"1\" class=\"dataframe\">\n",
       "  <thead>\n",
       "    <tr style=\"text-align: right;\">\n",
       "      <th></th>\n",
       "      <th>datetime</th>\n",
       "      <th>Vancouver</th>\n",
       "      <th>Portland</th>\n",
       "      <th>San Francisco</th>\n",
       "      <th>Seattle</th>\n",
       "      <th>Los Angeles</th>\n",
       "      <th>San Diego</th>\n",
       "      <th>Las Vegas</th>\n",
       "      <th>Phoenix</th>\n",
       "      <th>Albuquerque</th>\n",
       "      <th>...</th>\n",
       "      <th>Philadelphia</th>\n",
       "      <th>New York</th>\n",
       "      <th>Montreal</th>\n",
       "      <th>Boston</th>\n",
       "      <th>Beersheba</th>\n",
       "      <th>Tel Aviv District</th>\n",
       "      <th>Eilat</th>\n",
       "      <th>Haifa</th>\n",
       "      <th>Nahariyya</th>\n",
       "      <th>Jerusalem</th>\n",
       "    </tr>\n",
       "  </thead>\n",
       "  <tbody>\n",
       "    <tr>\n",
       "      <th>0</th>\n",
       "      <td>2012-10-01 12:00:00</td>\n",
       "      <td>NaN</td>\n",
       "      <td>NaN</td>\n",
       "      <td>NaN</td>\n",
       "      <td>NaN</td>\n",
       "      <td>NaN</td>\n",
       "      <td>NaN</td>\n",
       "      <td>NaN</td>\n",
       "      <td>NaN</td>\n",
       "      <td>NaN</td>\n",
       "      <td>...</td>\n",
       "      <td>NaN</td>\n",
       "      <td>NaN</td>\n",
       "      <td>NaN</td>\n",
       "      <td>NaN</td>\n",
       "      <td>NaN</td>\n",
       "      <td>NaN</td>\n",
       "      <td>haze</td>\n",
       "      <td>NaN</td>\n",
       "      <td>NaN</td>\n",
       "      <td>NaN</td>\n",
       "    </tr>\n",
       "    <tr>\n",
       "      <th>1</th>\n",
       "      <td>2012-10-01 13:00:00</td>\n",
       "      <td>mist</td>\n",
       "      <td>scattered clouds</td>\n",
       "      <td>light rain</td>\n",
       "      <td>sky is clear</td>\n",
       "      <td>mist</td>\n",
       "      <td>sky is clear</td>\n",
       "      <td>sky is clear</td>\n",
       "      <td>sky is clear</td>\n",
       "      <td>sky is clear</td>\n",
       "      <td>...</td>\n",
       "      <td>broken clouds</td>\n",
       "      <td>few clouds</td>\n",
       "      <td>overcast clouds</td>\n",
       "      <td>sky is clear</td>\n",
       "      <td>sky is clear</td>\n",
       "      <td>sky is clear</td>\n",
       "      <td>haze</td>\n",
       "      <td>sky is clear</td>\n",
       "      <td>sky is clear</td>\n",
       "      <td>sky is clear</td>\n",
       "    </tr>\n",
       "    <tr>\n",
       "      <th>2</th>\n",
       "      <td>2012-10-01 14:00:00</td>\n",
       "      <td>broken clouds</td>\n",
       "      <td>scattered clouds</td>\n",
       "      <td>sky is clear</td>\n",
       "      <td>sky is clear</td>\n",
       "      <td>sky is clear</td>\n",
       "      <td>sky is clear</td>\n",
       "      <td>sky is clear</td>\n",
       "      <td>sky is clear</td>\n",
       "      <td>sky is clear</td>\n",
       "      <td>...</td>\n",
       "      <td>broken clouds</td>\n",
       "      <td>few clouds</td>\n",
       "      <td>sky is clear</td>\n",
       "      <td>few clouds</td>\n",
       "      <td>sky is clear</td>\n",
       "      <td>sky is clear</td>\n",
       "      <td>broken clouds</td>\n",
       "      <td>overcast clouds</td>\n",
       "      <td>sky is clear</td>\n",
       "      <td>overcast clouds</td>\n",
       "    </tr>\n",
       "    <tr>\n",
       "      <th>3</th>\n",
       "      <td>2012-10-01 15:00:00</td>\n",
       "      <td>broken clouds</td>\n",
       "      <td>scattered clouds</td>\n",
       "      <td>sky is clear</td>\n",
       "      <td>sky is clear</td>\n",
       "      <td>sky is clear</td>\n",
       "      <td>sky is clear</td>\n",
       "      <td>sky is clear</td>\n",
       "      <td>sky is clear</td>\n",
       "      <td>sky is clear</td>\n",
       "      <td>...</td>\n",
       "      <td>broken clouds</td>\n",
       "      <td>few clouds</td>\n",
       "      <td>sky is clear</td>\n",
       "      <td>few clouds</td>\n",
       "      <td>overcast clouds</td>\n",
       "      <td>sky is clear</td>\n",
       "      <td>broken clouds</td>\n",
       "      <td>overcast clouds</td>\n",
       "      <td>overcast clouds</td>\n",
       "      <td>overcast clouds</td>\n",
       "    </tr>\n",
       "    <tr>\n",
       "      <th>4</th>\n",
       "      <td>2012-10-01 16:00:00</td>\n",
       "      <td>broken clouds</td>\n",
       "      <td>scattered clouds</td>\n",
       "      <td>sky is clear</td>\n",
       "      <td>sky is clear</td>\n",
       "      <td>sky is clear</td>\n",
       "      <td>sky is clear</td>\n",
       "      <td>sky is clear</td>\n",
       "      <td>sky is clear</td>\n",
       "      <td>sky is clear</td>\n",
       "      <td>...</td>\n",
       "      <td>broken clouds</td>\n",
       "      <td>few clouds</td>\n",
       "      <td>sky is clear</td>\n",
       "      <td>few clouds</td>\n",
       "      <td>overcast clouds</td>\n",
       "      <td>sky is clear</td>\n",
       "      <td>broken clouds</td>\n",
       "      <td>overcast clouds</td>\n",
       "      <td>overcast clouds</td>\n",
       "      <td>overcast clouds</td>\n",
       "    </tr>\n",
       "  </tbody>\n",
       "</table>\n",
       "<p>5 rows × 37 columns</p>\n",
       "</div>"
      ],
      "text/plain": [
       "              datetime      Vancouver          Portland San Francisco  \\\n",
       "0  2012-10-01 12:00:00            NaN               NaN           NaN   \n",
       "1  2012-10-01 13:00:00           mist  scattered clouds    light rain   \n",
       "2  2012-10-01 14:00:00  broken clouds  scattered clouds  sky is clear   \n",
       "3  2012-10-01 15:00:00  broken clouds  scattered clouds  sky is clear   \n",
       "4  2012-10-01 16:00:00  broken clouds  scattered clouds  sky is clear   \n",
       "\n",
       "        Seattle   Los Angeles     San Diego     Las Vegas       Phoenix  \\\n",
       "0           NaN           NaN           NaN           NaN           NaN   \n",
       "1  sky is clear          mist  sky is clear  sky is clear  sky is clear   \n",
       "2  sky is clear  sky is clear  sky is clear  sky is clear  sky is clear   \n",
       "3  sky is clear  sky is clear  sky is clear  sky is clear  sky is clear   \n",
       "4  sky is clear  sky is clear  sky is clear  sky is clear  sky is clear   \n",
       "\n",
       "    Albuquerque  ...   Philadelphia    New York         Montreal  \\\n",
       "0           NaN  ...            NaN         NaN              NaN   \n",
       "1  sky is clear  ...  broken clouds  few clouds  overcast clouds   \n",
       "2  sky is clear  ...  broken clouds  few clouds     sky is clear   \n",
       "3  sky is clear  ...  broken clouds  few clouds     sky is clear   \n",
       "4  sky is clear  ...  broken clouds  few clouds     sky is clear   \n",
       "\n",
       "         Boston        Beersheba Tel Aviv District          Eilat  \\\n",
       "0           NaN              NaN               NaN           haze   \n",
       "1  sky is clear     sky is clear      sky is clear           haze   \n",
       "2    few clouds     sky is clear      sky is clear  broken clouds   \n",
       "3    few clouds  overcast clouds      sky is clear  broken clouds   \n",
       "4    few clouds  overcast clouds      sky is clear  broken clouds   \n",
       "\n",
       "             Haifa        Nahariyya        Jerusalem  \n",
       "0              NaN              NaN              NaN  \n",
       "1     sky is clear     sky is clear     sky is clear  \n",
       "2  overcast clouds     sky is clear  overcast clouds  \n",
       "3  overcast clouds  overcast clouds  overcast clouds  \n",
       "4  overcast clouds  overcast clouds  overcast clouds  \n",
       "\n",
       "[5 rows x 37 columns]"
      ]
     },
     "execution_count": 40,
     "metadata": {},
     "output_type": "execute_result"
    }
   ],
   "source": [
    "weather.head()"
   ]
  },
  {
   "cell_type": "markdown",
   "id": "be49e071",
   "metadata": {},
   "source": [
    "On ne sélectionne que la météo pour San Francisco"
   ]
  },
  {
   "cell_type": "code",
   "execution_count": 41,
   "id": "037cb600",
   "metadata": {},
   "outputs": [],
   "source": [
    "weather=weather[['datetime', 'San Francisco']]"
   ]
  },
  {
   "cell_type": "code",
   "execution_count": 42,
   "id": "803f065e",
   "metadata": {},
   "outputs": [],
   "source": [
    "weather=weather.dropna()\n",
    "weather['datetime'] = pd.to_datetime(weather['datetime'], infer_datetime_format=True)\n"
   ]
  },
  {
   "cell_type": "code",
   "execution_count": 43,
   "id": "dcae2674",
   "metadata": {},
   "outputs": [],
   "source": [
    "weather['year'] = weather['datetime'].dt.year\n",
    "weather['month'] = weather['datetime'].dt.month\n",
    "weather['day'] = weather['datetime'].dt.day\n",
    "weather['hour'] = weather['datetime'].dt.hour\n",
    "\n",
    "weather[\"weekday\"] = weather['datetime'].dt.day_name()"
   ]
  },
  {
   "cell_type": "code",
   "execution_count": 44,
   "id": "059edb0e",
   "metadata": {},
   "outputs": [
    {
     "data": {
      "text/plain": [
       "year\n",
       "2012    2195\n",
       "2013    8760\n",
       "2014    8760\n",
       "2015    8760\n",
       "2016    8784\n",
       "2017    7201\n",
       "dtype: int64"
      ]
     },
     "execution_count": 44,
     "metadata": {},
     "output_type": "execute_result"
    }
   ],
   "source": [
    "weather.groupby('year').size()"
   ]
  },
  {
   "cell_type": "markdown",
   "id": "0ab57b68",
   "metadata": {},
   "source": [
    "D'après la commande précédente seule les années 2013 à 2016 sont complètes. Ainsi nous allons conserver les années 2014-2015-2016 (3 ans d'historique)"
   ]
  },
  {
   "cell_type": "code",
   "execution_count": 45,
   "id": "9b70edb4",
   "metadata": {},
   "outputs": [],
   "source": [
    "weather = weather[(weather['year']>2013) & (weather['year']<2017)]"
   ]
  },
  {
   "cell_type": "code",
   "execution_count": 46,
   "id": "fa276956",
   "metadata": {},
   "outputs": [],
   "source": [
    "weather = weather.drop(columns='datetime')"
   ]
  },
  {
   "cell_type": "code",
   "execution_count": 47,
   "id": "3d0a215d",
   "metadata": {},
   "outputs": [],
   "source": [
    "result_weather = pd.merge(df_cartesian, weather, on=[\"year\", \"month\", \"day\", \"hour\", \"weekday\"])"
   ]
  },
  {
   "cell_type": "code",
   "execution_count": 48,
   "id": "db19b131",
   "metadata": {},
   "outputs": [],
   "source": [
    "result_weather.rename(columns={'San Francisco': 'weather'}, inplace=True)"
   ]
  },
  {
   "cell_type": "markdown",
   "id": "c0ac8c37",
   "metadata": {},
   "source": [
    "Nous fusionnons notre base de données avec la base de données initiale contenant le nombre d'appels par heure et par quartier"
   ]
  },
  {
   "cell_type": "code",
   "execution_count": 49,
   "id": "37fde18e",
   "metadata": {},
   "outputs": [],
   "source": [
    "result_weather_2 = pd.merge(result_weather, count_test, on=[\"year\", \"month\", \"day\", \"hour\", \"weekday\", \"Neighborhooods - Analysis Boundaries\"], how='left')\n",
    "\n",
    "result_weather_2 = result_weather_2.fillna(0)"
   ]
  },
  {
   "cell_type": "markdown",
   "id": "4fa9b4e0",
   "metadata": {},
   "source": [
    "Encore une fois au delà de 3 appels nous considérons une seule et même classe du nombre d'appels"
   ]
  },
  {
   "cell_type": "code",
   "execution_count": 50,
   "id": "7c3d74f5",
   "metadata": {},
   "outputs": [],
   "source": [
    "result_weather_2.loc[result_weather_2['count'] >= 4, 'count'] = 4"
   ]
  },
  {
   "cell_type": "code",
   "execution_count": 51,
   "id": "74ce5f0f",
   "metadata": {},
   "outputs": [],
   "source": [
    "result_weather_2['Neighborhooods - Analysis Boundaries'] = result_weather_2['Neighborhooods - Analysis Boundaries'].astype('category')\n",
    "result_weather_2['Neighborhooods - Analysis Boundaries'] = result_weather_2['Neighborhooods - Analysis Boundaries'].cat.codes\n",
    "\n",
    "result_weather_2['weekday'] = result_weather_2['weekday'].astype('category')\n",
    "result_weather_2['weekday'] = result_weather_2['weekday'].cat.codes\n",
    "\n",
    "result_weather_2['weather'] = result_weather_2['weather'].astype('category')\n",
    "result_weather_2['weather'] = result_weather_2['weather'].cat.codes"
   ]
  },
  {
   "cell_type": "markdown",
   "id": "ce23a0b0",
   "metadata": {},
   "source": [
    "Nous splittons nos inputs et output"
   ]
  },
  {
   "cell_type": "code",
   "execution_count": 52,
   "id": "43a38a6f",
   "metadata": {},
   "outputs": [],
   "source": [
    "y_weather = result_weather_2[\"count\"]\n",
    "X_weather = result_weather_2.drop(columns = [\"count\",\"year\"], axis=1)"
   ]
  },
  {
   "cell_type": "code",
   "execution_count": 53,
   "id": "7c099e82",
   "metadata": {},
   "outputs": [
    {
     "data": {
      "text/plain": [
       "count\n",
       "0.0    807444\n",
       "1.0    191082\n",
       "2.0     50835\n",
       "3.0     17722\n",
       "4.0     11381\n",
       "Name: count, dtype: int64"
      ]
     },
     "execution_count": 53,
     "metadata": {},
     "output_type": "execute_result"
    }
   ],
   "source": [
    "y_weather.groupby(y_weather).size()"
   ]
  },
  {
   "cell_type": "markdown",
   "id": "bc790f21",
   "metadata": {},
   "source": [
    "Modèle avec un RF"
   ]
  },
  {
   "cell_type": "code",
   "execution_count": 54,
   "id": "3b75c270",
   "metadata": {},
   "outputs": [
    {
     "name": "stdout",
     "output_type": "stream",
     "text": [
      "Returned hyperparameter: {'n_estimators': 50}\n",
      "Best Balanced accuracy in train is: 0.7289999308411574\n",
      "Classification accuracy on test is: 0.7290408126364787\n",
      "Wall time: 8min 4s\n"
     ]
    }
   ],
   "source": [
    "%%time\n",
    "\n",
    "X_train_weather, X_test_weather, y_train_weather, y_test_weather = train_test_split(X_weather, y_weather, test_size=0.2)\n",
    "\n",
    "#Prédiction avec les forêts aléatoires\n",
    "rf=RandomForestClassifier()\n",
    "parameters={'n_estimators': [25, 50]}  # defining parameter space\n",
    "\n",
    "clf_rf= GridSearchCV(estimator=rf, param_grid=parameters, cv= 3)\n",
    "clf_rf.fit(X_train_weather, y_train_weather)\n",
    "\n",
    "print('Returned hyperparameter: {}'.format(clf_rf.best_params_))\n",
    "print('Best Balanced accuracy in train is: {}'.format(clf_rf.best_score_))\n",
    "print('Classification accuracy on test is: {}'.format(clf_rf.score(X_test_weather, y_test_weather)))"
   ]
  },
  {
   "cell_type": "code",
   "execution_count": 55,
   "id": "f12944c2",
   "metadata": {},
   "outputs": [],
   "source": [
    "y_hat_rf_w = clf_rf.predict(X_test_weather)"
   ]
  },
  {
   "cell_type": "code",
   "execution_count": 56,
   "id": "e6d433fe",
   "metadata": {},
   "outputs": [
    {
     "data": {
      "text/plain": [
       "array([[150203,   9569,   1349,    322,    184],\n",
       "       [ 30425,   5338,   1479,    488,    386],\n",
       "       [  5833,   2417,   1113,    480,    419],\n",
       "       [  1293,   1038,    594,    289,    300],\n",
       "       [   450,    617,    513,    288,    306]], dtype=int64)"
      ]
     },
     "execution_count": 56,
     "metadata": {},
     "output_type": "execute_result"
    }
   ],
   "source": [
    "confusion_matrix(y_test_weather, y_hat_rf_w)"
   ]
  },
  {
   "cell_type": "code",
   "execution_count": 57,
   "id": "b94ef949",
   "metadata": {},
   "outputs": [
    {
     "data": {
      "text/plain": [
       "0.6868170201206522"
      ]
     },
     "execution_count": 57,
     "metadata": {},
     "output_type": "execute_result"
    }
   ],
   "source": [
    "f1_score(y_test_weather, y_hat_rf_w, average='weighted')"
   ]
  },
  {
   "cell_type": "code",
   "execution_count": 58,
   "id": "f3823cfc",
   "metadata": {},
   "outputs": [
    {
     "data": {
      "text/plain": [
       "array([0.8587175 , 0.1869866 , 0.14539517, 0.10741498, 0.16237729])"
      ]
     },
     "execution_count": 58,
     "metadata": {},
     "output_type": "execute_result"
    }
   ],
   "source": [
    "f1_score(y_test_weather, y_hat_rf_w, average=None)"
   ]
  },
  {
   "cell_type": "markdown",
   "id": "c4183f27",
   "metadata": {},
   "source": [
    "# Ajout des jours fériés"
   ]
  },
  {
   "cell_type": "markdown",
   "id": "40ed7061",
   "metadata": {},
   "source": [
    "Nous avons vu que la météo n'avait pas d'impact sur notre modèle de prévision. Nous nous intéressons maintenant si les jours fériés peuvent avoir un impact sur le nombre d'appels"
   ]
  },
  {
   "cell_type": "code",
   "execution_count": 59,
   "id": "dfdf8099",
   "metadata": {},
   "outputs": [],
   "source": [
    "dayoff = pd.read_csv('usholidays.csv')"
   ]
  },
  {
   "cell_type": "code",
   "execution_count": 60,
   "id": "0ebd60bf",
   "metadata": {},
   "outputs": [
    {
     "data": {
      "text/plain": [
       "Index(['Unnamed: 0', 'Date', 'Holiday'], dtype='object')"
      ]
     },
     "execution_count": 60,
     "metadata": {},
     "output_type": "execute_result"
    }
   ],
   "source": [
    "dayoff.columns"
   ]
  },
  {
   "cell_type": "code",
   "execution_count": 61,
   "id": "f7da6ec4",
   "metadata": {},
   "outputs": [
    {
     "data": {
      "text/plain": [
       "year\n",
       "2012    10\n",
       "2013    10\n",
       "2014    10\n",
       "2015    10\n",
       "2016    10\n",
       "2017    10\n",
       "2018    10\n",
       "2019    10\n",
       "2020    10\n",
       "dtype: int64"
      ]
     },
     "execution_count": 61,
     "metadata": {},
     "output_type": "execute_result"
    }
   ],
   "source": [
    "dayoff=dayoff.dropna()\n",
    "dayoff['Date'] = pd.to_datetime(dayoff['Date'], infer_datetime_format=True)\n",
    "\n",
    "dayoff['year'] = dayoff['Date'].dt.year\n",
    "dayoff['month'] = dayoff['Date'].dt.month\n",
    "dayoff['day'] = dayoff['Date'].dt.day\n",
    "dayoff[\"weekday\"] = dayoff['Date'].dt.day_name()\n",
    "\n",
    "#notre base de données principale contient uniquement les jours entre le 01/01/2012 et 31/12/2020\n",
    "dayoff = dayoff[dayoff['year']>2011]\n",
    "\n",
    "#1 si c'est un jour férié 1 et par la suite 0 si c'est pas un jour férié\n",
    "dayoff['Date'] = 1\n",
    "dayoff.rename(columns={'Date': 'public holiday'}, inplace=True)\n",
    "dayoff = dayoff.drop(columns=[\"Unnamed: 0\", \"Holiday\"])\n",
    "\n",
    "dayoff.groupby('year').size()"
   ]
  },
  {
   "cell_type": "code",
   "execution_count": 62,
   "id": "30bc1058",
   "metadata": {},
   "outputs": [],
   "source": [
    "result_dayoff = pd.merge(count_test, dayoff, on=[\"year\", \"month\", \"day\", \"weekday\"], how='left')\n",
    "result_dayoff = result_dayoff.fillna(0)"
   ]
  },
  {
   "cell_type": "code",
   "execution_count": 63,
   "id": "6e089f75",
   "metadata": {},
   "outputs": [],
   "source": [
    "result_dayoff2 = pd.merge(df_cartesian, result_dayoff, on=[\"year\", \"month\", \"day\", \"hour\", \"weekday\", \"Neighborhooods - Analysis Boundaries\"], how='left')\n",
    "result_dayoff2 = result_dayoff2.fillna(0)"
   ]
  },
  {
   "cell_type": "code",
   "execution_count": 64,
   "id": "49ab8bba",
   "metadata": {},
   "outputs": [],
   "source": [
    "result_dayoff2.loc[result_dayoff2['count'] >= 4, 'count'] = 4\n",
    "\n",
    "result_dayoff2['Neighborhooods - Analysis Boundaries'] = result_dayoff2['Neighborhooods - Analysis Boundaries'].astype('category')\n",
    "result_dayoff2['Neighborhooods - Analysis Boundaries'] = result_dayoff2['Neighborhooods - Analysis Boundaries'].cat.codes\n",
    "\n",
    "result_dayoff2['weekday'] = result_dayoff2['weekday'].astype('category')\n",
    "result_dayoff2['weekday'] = result_dayoff2['weekday'].cat.codes\n",
    "\n",
    "result_dayoff2 = result_dayoff2[(result_dayoff2['year']>2016) & (result_dayoff2['year']<2020)]"
   ]
  },
  {
   "cell_type": "code",
   "execution_count": 65,
   "id": "a75d21c9",
   "metadata": {},
   "outputs": [],
   "source": [
    "y_dayoff = result_dayoff2[\"count\"]\n",
    "X_dayoff = result_dayoff2.drop(columns = [\"count\",\"year\"], axis=1)"
   ]
  },
  {
   "cell_type": "markdown",
   "id": "1e23af3d",
   "metadata": {},
   "source": [
    "A nouveau, notre modèle se base sur un RF"
   ]
  },
  {
   "cell_type": "code",
   "execution_count": 66,
   "id": "05250e3d",
   "metadata": {},
   "outputs": [
    {
     "name": "stdout",
     "output_type": "stream",
     "text": [
      "Returned hyperparameter: {'n_estimators': 50}\n",
      "Best Balanced accuracy in train is: 0.7139297249136876\n",
      "Classification accuracy on test is: 0.7137905111927831\n",
      "Wall time: 7min 12s\n"
     ]
    }
   ],
   "source": [
    "%%time\n",
    "\n",
    "X_train_do, X_test_do, y_train_do, y_test_do = train_test_split(X_dayoff, y_dayoff, test_size=0.2)\n",
    "\n",
    "#Prédiction avec les forêts aléatoires\n",
    "rf=RandomForestClassifier()\n",
    "parameters={'n_estimators': [25, 50]}  # defining parameter space\n",
    "\n",
    "clf_rf= GridSearchCV(estimator=rf, param_grid=parameters, cv= 3)\n",
    "clf_rf.fit(X_train_do, y_train_do)\n",
    "\n",
    "print('Returned hyperparameter: {}'.format(clf_rf.best_params_))\n",
    "print('Best Balanced accuracy in train is: {}'.format(clf_rf.best_score_))\n",
    "print('Classification accuracy on test is: {}'.format(clf_rf.score(X_test_do, y_test_do)))"
   ]
  },
  {
   "cell_type": "code",
   "execution_count": 67,
   "id": "13cb3768",
   "metadata": {},
   "outputs": [],
   "source": [
    "y_hat_rf_do = clf_rf.predict(X_test_do)"
   ]
  },
  {
   "cell_type": "code",
   "execution_count": 68,
   "id": "e2779c2a",
   "metadata": {},
   "outputs": [
    {
     "data": {
      "text/plain": [
       "array([[144685,  10055,   1504,    468,    257],\n",
       "       [ 30573,   6651,   1762,    655,    551],\n",
       "       [  5915,   2733,   1296,    647,    570],\n",
       "       [  1280,   1107,    767,    437,    501],\n",
       "       [   473,    729,    682,    448,    750]], dtype=int64)"
      ]
     },
     "execution_count": 68,
     "metadata": {},
     "output_type": "execute_result"
    }
   ],
   "source": [
    "confusion_matrix(y_test_do, y_hat_rf_do)"
   ]
  },
  {
   "cell_type": "code",
   "execution_count": 69,
   "id": "acba9d12",
   "metadata": {},
   "outputs": [
    {
     "data": {
      "text/plain": [
       "0.6745270689889429"
      ]
     },
     "execution_count": 69,
     "metadata": {},
     "output_type": "execute_result"
    }
   ],
   "source": [
    "f1_score(y_test_do, y_hat_rf_do, average='weighted')"
   ]
  },
  {
   "cell_type": "code",
   "execution_count": 70,
   "id": "64fb7457",
   "metadata": {},
   "outputs": [
    {
     "data": {
      "text/plain": [
       "array([0.85135115, 0.2164088 , 0.1509434 , 0.12953905, 0.26265102])"
      ]
     },
     "execution_count": 70,
     "metadata": {},
     "output_type": "execute_result"
    }
   ],
   "source": [
    "f1_score(y_test_do, y_hat_rf_do, average=None)"
   ]
  }
 ],
 "metadata": {
  "kernelspec": {
   "display_name": "Python 3",
   "language": "python",
   "name": "python3"
  },
  "language_info": {
   "codemirror_mode": {
    "name": "ipython",
    "version": 3
   },
   "file_extension": ".py",
   "mimetype": "text/x-python",
   "name": "python",
   "nbconvert_exporter": "python",
   "pygments_lexer": "ipython3",
   "version": "3.7.3"
  }
 },
 "nbformat": 4,
 "nbformat_minor": 5
}
