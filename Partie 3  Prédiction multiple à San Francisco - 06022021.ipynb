{
 "cells": [
  {
   "cell_type": "markdown",
   "id": "0177e244",
   "metadata": {},
   "source": [
    "<h1><center> Projet Machine Learning avec Python : </center></h1>\n",
    "<h1><center> Prédiction des incidents  à San Francisco </center></h1>\n",
    "\n",
    " "
   ]
  },
  {
   "cell_type": "markdown",
   "id": "b699f6ec",
   "metadata": {},
   "source": [
    "<h1><center> Partie 3 : Prédiction multiple du nombre d'incidents par catégorie et par heure <center></h1>"
   ]
  },
  {
   "cell_type": "code",
   "execution_count": 70,
   "id": "227abf13",
   "metadata": {},
   "outputs": [],
   "source": [
    "import os\n",
    "\n",
    "import pandas as pd\n",
    "import numpy as np\n",
    "import matplotlib.pyplot as plt\n",
    "\n",
    "import seaborn as sns\n",
    "sns.set(rc={'figure.figsize':(11, 4)})\n",
    "\n",
    "from sklearn.pipeline import Pipeline\n",
    "from sklearn.compose import ColumnTransformer\n",
    "from sklearn.preprocessing import OneHotEncoder\n",
    "from sklearn.impute import SimpleImputer\n",
    "from sklearn.model_selection import GridSearchCV\n",
    "from sklearn.preprocessing import LabelEncoder\n",
    "from sklearn.model_selection import train_test_split\n",
    "from sklearn.metrics import confusion_matrix\n",
    "\n",
    "from sklearn.ensemble import RandomForestClassifier\n",
    "from sklearn.neighbors import KNeighborsClassifier\n",
    "\n",
    "from sklearn.preprocessing import MaxAbsScaler, StandardScaler, RobustScaler, MinMaxScaler\n",
    "from sklearn.compose import make_column_transformer\n",
    "from sklearn.linear_model import LogisticRegression\n",
    "from sklearn.multioutput import MultiOutputClassifier\n",
    "from sklearn.multioutput import MultiOutputRegressor\n",
    "from sklearn.neighbors import KNeighborsRegressor\n",
    "from sklearn.metrics import mean_squared_error,  make_scorer\n",
    "import time\n",
    "from sklearn.preprocessing import LabelEncoder\n",
    "from sklearn.svm import LinearSVC\n",
    "\n",
    "from sklearn.metrics import f1_score\n",
    "\n",
    "from xgboost import XGBRegressor\n",
    "from xgboost import XGBClassifier"
   ]
  },
  {
   "cell_type": "markdown",
   "id": "e6635dc2",
   "metadata": {},
   "source": [
    "# 1. Opérations préliminaires sur la base de données"
   ]
  },
  {
   "cell_type": "code",
   "execution_count": 2,
   "id": "8fc7aeb4",
   "metadata": {
    "scrolled": true
   },
   "outputs": [
    {
     "name": "stderr",
     "output_type": "stream",
     "text": [
      "/opt/anaconda3/lib/python3.8/site-packages/IPython/core/interactiveshell.py:3071: DtypeWarning: Columns (6) have mixed types.Specify dtype option on import or set low_memory=False.\n",
      "  has_raised = await self.run_ast_nodes(code_ast.body, cell_name,\n"
     ]
    }
   ],
   "source": [
    "df = pd.read_csv('Fire_Department_Calls_for_Service_reduced_V3.csv')"
   ]
  },
  {
   "cell_type": "markdown",
   "id": "adda124b",
   "metadata": {},
   "source": [
    "**1.1. Nombre d'appels par heure, date et lieu**"
   ]
  },
  {
   "cell_type": "code",
   "execution_count": 3,
   "id": "efc225dc",
   "metadata": {},
   "outputs": [],
   "source": [
    "count_test = df.groupby(['year', 'month', 'day', 'hour', 'weekday', 'Neighborhooods - Analysis Boundaries']).size().reset_index(name='count')"
   ]
  },
  {
   "cell_type": "code",
   "execution_count": 4,
   "id": "34e74115",
   "metadata": {
    "scrolled": true
   },
   "outputs": [
    {
     "data": {
      "text/html": [
       "<div>\n",
       "<style scoped>\n",
       "    .dataframe tbody tr th:only-of-type {\n",
       "        vertical-align: middle;\n",
       "    }\n",
       "\n",
       "    .dataframe tbody tr th {\n",
       "        vertical-align: top;\n",
       "    }\n",
       "\n",
       "    .dataframe thead th {\n",
       "        text-align: right;\n",
       "    }\n",
       "</style>\n",
       "<table border=\"1\" class=\"dataframe\">\n",
       "  <thead>\n",
       "    <tr style=\"text-align: right;\">\n",
       "      <th></th>\n",
       "      <th>Unnamed: 0</th>\n",
       "      <th>Call Date</th>\n",
       "      <th>Received DtTm</th>\n",
       "      <th>Address</th>\n",
       "      <th>Zipcode of Incident</th>\n",
       "      <th>Battalion</th>\n",
       "      <th>Station Area</th>\n",
       "      <th>Box</th>\n",
       "      <th>Final Priority</th>\n",
       "      <th>Neighborhooods - Analysis Boundaries</th>\n",
       "      <th>Location</th>\n",
       "      <th>shape</th>\n",
       "      <th>Neighborhoods - Analysis Boundaries</th>\n",
       "      <th>year</th>\n",
       "      <th>month</th>\n",
       "      <th>day</th>\n",
       "      <th>hour</th>\n",
       "      <th>minute</th>\n",
       "      <th>weekday</th>\n",
       "      <th>Call Category</th>\n",
       "    </tr>\n",
       "  </thead>\n",
       "  <tbody>\n",
       "    <tr>\n",
       "      <th>0</th>\n",
       "      <td>2949367</td>\n",
       "      <td>2012-01-01 00:00:00</td>\n",
       "      <td>2012-01-01 00:00:57</td>\n",
       "      <td>0 Block of WASHINGTON ST</td>\n",
       "      <td>94111.0</td>\n",
       "      <td>B01</td>\n",
       "      <td>13.0</td>\n",
       "      <td>1116.0</td>\n",
       "      <td>2</td>\n",
       "      <td>Financial District/South Beach</td>\n",
       "      <td>(37.796450111202, -122.396164646182)</td>\n",
       "      <td>POINT (-122.396164646182 37.796450111202)</td>\n",
       "      <td>8.0</td>\n",
       "      <td>2012</td>\n",
       "      <td>1</td>\n",
       "      <td>1</td>\n",
       "      <td>0</td>\n",
       "      <td>0</td>\n",
       "      <td>Sunday</td>\n",
       "      <td>Medical Non Life-Threatening</td>\n",
       "    </tr>\n",
       "    <tr>\n",
       "      <th>1</th>\n",
       "      <td>2920610</td>\n",
       "      <td>2012-01-01 00:00:00</td>\n",
       "      <td>2012-01-01 00:02:05</td>\n",
       "      <td>GEARY BL/CLEARY CT</td>\n",
       "      <td>94109.0</td>\n",
       "      <td>B04</td>\n",
       "      <td>3.0</td>\n",
       "      <td>3323.0</td>\n",
       "      <td>2</td>\n",
       "      <td>Western Addition</td>\n",
       "      <td>(37.785061737122, -122.42643012773)</td>\n",
       "      <td>POINT (-122.42643012773 37.785061737122)</td>\n",
       "      <td>39.0</td>\n",
       "      <td>2012</td>\n",
       "      <td>1</td>\n",
       "      <td>1</td>\n",
       "      <td>0</td>\n",
       "      <td>2</td>\n",
       "      <td>Sunday</td>\n",
       "      <td>Medical Non Life-Threatening</td>\n",
       "    </tr>\n",
       "    <tr>\n",
       "      <th>2</th>\n",
       "      <td>3003150</td>\n",
       "      <td>2012-01-01 00:00:00</td>\n",
       "      <td>2012-01-01 00:02:27</td>\n",
       "      <td>HAIGHT ST/LAGUNA ST</td>\n",
       "      <td>94102.0</td>\n",
       "      <td>B02</td>\n",
       "      <td>36.0</td>\n",
       "      <td>3415.0</td>\n",
       "      <td>3</td>\n",
       "      <td>Hayes Valley</td>\n",
       "      <td>(37.772734311086, -122.425512056036)</td>\n",
       "      <td>POINT (-122.425512056036 37.772734311086)</td>\n",
       "      <td>9.0</td>\n",
       "      <td>2012</td>\n",
       "      <td>1</td>\n",
       "      <td>1</td>\n",
       "      <td>0</td>\n",
       "      <td>2</td>\n",
       "      <td>Sunday</td>\n",
       "      <td>Fire</td>\n",
       "    </tr>\n",
       "    <tr>\n",
       "      <th>3</th>\n",
       "      <td>2990241</td>\n",
       "      <td>2012-01-01 00:00:00</td>\n",
       "      <td>2012-01-01 00:02:53</td>\n",
       "      <td>WALLER ST/LAGUNA ST</td>\n",
       "      <td>94102.0</td>\n",
       "      <td>B02</td>\n",
       "      <td>36.0</td>\n",
       "      <td>3415.0</td>\n",
       "      <td>3</td>\n",
       "      <td>Hayes Valley</td>\n",
       "      <td>(37.771795346154, -122.425322486842)</td>\n",
       "      <td>POINT (-122.425322486842 37.771795346154)</td>\n",
       "      <td>9.0</td>\n",
       "      <td>2012</td>\n",
       "      <td>1</td>\n",
       "      <td>1</td>\n",
       "      <td>0</td>\n",
       "      <td>2</td>\n",
       "      <td>Sunday</td>\n",
       "      <td>Fire</td>\n",
       "    </tr>\n",
       "    <tr>\n",
       "      <th>4</th>\n",
       "      <td>3002275</td>\n",
       "      <td>2012-01-01 00:00:00</td>\n",
       "      <td>2012-01-01 00:03:55</td>\n",
       "      <td>1100 Block of FOLSOM ST</td>\n",
       "      <td>94103.0</td>\n",
       "      <td>B02</td>\n",
       "      <td>29.0</td>\n",
       "      <td>2322.0</td>\n",
       "      <td>3</td>\n",
       "      <td>South of Market</td>\n",
       "      <td>(37.775260329348, -122.409820946894)</td>\n",
       "      <td>POINT (-122.409820946894 37.775260329348)</td>\n",
       "      <td>34.0</td>\n",
       "      <td>2012</td>\n",
       "      <td>1</td>\n",
       "      <td>1</td>\n",
       "      <td>0</td>\n",
       "      <td>3</td>\n",
       "      <td>Sunday</td>\n",
       "      <td>Medical Potentially Life-Threatening</td>\n",
       "    </tr>\n",
       "  </tbody>\n",
       "</table>\n",
       "</div>"
      ],
      "text/plain": [
       "   Unnamed: 0            Call Date        Received DtTm  \\\n",
       "0     2949367  2012-01-01 00:00:00  2012-01-01 00:00:57   \n",
       "1     2920610  2012-01-01 00:00:00  2012-01-01 00:02:05   \n",
       "2     3003150  2012-01-01 00:00:00  2012-01-01 00:02:27   \n",
       "3     2990241  2012-01-01 00:00:00  2012-01-01 00:02:53   \n",
       "4     3002275  2012-01-01 00:00:00  2012-01-01 00:03:55   \n",
       "\n",
       "                    Address  Zipcode of Incident Battalion Station Area  \\\n",
       "0  0 Block of WASHINGTON ST              94111.0       B01         13.0   \n",
       "1        GEARY BL/CLEARY CT              94109.0       B04          3.0   \n",
       "2       HAIGHT ST/LAGUNA ST              94102.0       B02         36.0   \n",
       "3       WALLER ST/LAGUNA ST              94102.0       B02         36.0   \n",
       "4   1100 Block of FOLSOM ST              94103.0       B02         29.0   \n",
       "\n",
       "      Box  Final Priority Neighborhooods - Analysis Boundaries  \\\n",
       "0  1116.0               2       Financial District/South Beach   \n",
       "1  3323.0               2                     Western Addition   \n",
       "2  3415.0               3                         Hayes Valley   \n",
       "3  3415.0               3                         Hayes Valley   \n",
       "4  2322.0               3                      South of Market   \n",
       "\n",
       "                               Location  \\\n",
       "0  (37.796450111202, -122.396164646182)   \n",
       "1   (37.785061737122, -122.42643012773)   \n",
       "2  (37.772734311086, -122.425512056036)   \n",
       "3  (37.771795346154, -122.425322486842)   \n",
       "4  (37.775260329348, -122.409820946894)   \n",
       "\n",
       "                                       shape  \\\n",
       "0  POINT (-122.396164646182 37.796450111202)   \n",
       "1   POINT (-122.42643012773 37.785061737122)   \n",
       "2  POINT (-122.425512056036 37.772734311086)   \n",
       "3  POINT (-122.425322486842 37.771795346154)   \n",
       "4  POINT (-122.409820946894 37.775260329348)   \n",
       "\n",
       "   Neighborhoods - Analysis Boundaries  year  month  day  hour  minute  \\\n",
       "0                                  8.0  2012      1    1     0       0   \n",
       "1                                 39.0  2012      1    1     0       2   \n",
       "2                                  9.0  2012      1    1     0       2   \n",
       "3                                  9.0  2012      1    1     0       2   \n",
       "4                                 34.0  2012      1    1     0       3   \n",
       "\n",
       "  weekday                         Call Category  \n",
       "0  Sunday          Medical Non Life-Threatening  \n",
       "1  Sunday          Medical Non Life-Threatening  \n",
       "2  Sunday                                  Fire  \n",
       "3  Sunday                                  Fire  \n",
       "4  Sunday  Medical Potentially Life-Threatening  "
      ]
     },
     "execution_count": 4,
     "metadata": {},
     "output_type": "execute_result"
    }
   ],
   "source": [
    "df.head(5)"
   ]
  },
  {
   "cell_type": "code",
   "execution_count": 5,
   "id": "79fbbfdc",
   "metadata": {},
   "outputs": [
    {
     "data": {
      "text/html": [
       "<div>\n",
       "<style scoped>\n",
       "    .dataframe tbody tr th:only-of-type {\n",
       "        vertical-align: middle;\n",
       "    }\n",
       "\n",
       "    .dataframe tbody tr th {\n",
       "        vertical-align: top;\n",
       "    }\n",
       "\n",
       "    .dataframe thead th {\n",
       "        text-align: right;\n",
       "    }\n",
       "</style>\n",
       "<table border=\"1\" class=\"dataframe\">\n",
       "  <thead>\n",
       "    <tr style=\"text-align: right;\">\n",
       "      <th></th>\n",
       "      <th>year</th>\n",
       "      <th>month</th>\n",
       "      <th>day</th>\n",
       "      <th>hour</th>\n",
       "      <th>weekday</th>\n",
       "      <th>Neighborhooods - Analysis Boundaries</th>\n",
       "      <th>count</th>\n",
       "    </tr>\n",
       "  </thead>\n",
       "  <tbody>\n",
       "    <tr>\n",
       "      <th>0</th>\n",
       "      <td>2012</td>\n",
       "      <td>1</td>\n",
       "      <td>1</td>\n",
       "      <td>0</td>\n",
       "      <td>Sunday</td>\n",
       "      <td>Bayview Hunters Point</td>\n",
       "      <td>2</td>\n",
       "    </tr>\n",
       "    <tr>\n",
       "      <th>1</th>\n",
       "      <td>2012</td>\n",
       "      <td>1</td>\n",
       "      <td>1</td>\n",
       "      <td>0</td>\n",
       "      <td>Sunday</td>\n",
       "      <td>Bernal Heights</td>\n",
       "      <td>1</td>\n",
       "    </tr>\n",
       "    <tr>\n",
       "      <th>2</th>\n",
       "      <td>2012</td>\n",
       "      <td>1</td>\n",
       "      <td>1</td>\n",
       "      <td>0</td>\n",
       "      <td>Sunday</td>\n",
       "      <td>Castro/Upper Market</td>\n",
       "      <td>1</td>\n",
       "    </tr>\n",
       "    <tr>\n",
       "      <th>3</th>\n",
       "      <td>2012</td>\n",
       "      <td>1</td>\n",
       "      <td>1</td>\n",
       "      <td>0</td>\n",
       "      <td>Sunday</td>\n",
       "      <td>Financial District/South Beach</td>\n",
       "      <td>23</td>\n",
       "    </tr>\n",
       "    <tr>\n",
       "      <th>4</th>\n",
       "      <td>2012</td>\n",
       "      <td>1</td>\n",
       "      <td>1</td>\n",
       "      <td>0</td>\n",
       "      <td>Sunday</td>\n",
       "      <td>Haight Ashbury</td>\n",
       "      <td>1</td>\n",
       "    </tr>\n",
       "  </tbody>\n",
       "</table>\n",
       "</div>"
      ],
      "text/plain": [
       "   year  month  day  hour weekday Neighborhooods - Analysis Boundaries  count\n",
       "0  2012      1    1     0  Sunday                Bayview Hunters Point      2\n",
       "1  2012      1    1     0  Sunday                       Bernal Heights      1\n",
       "2  2012      1    1     0  Sunday                  Castro/Upper Market      1\n",
       "3  2012      1    1     0  Sunday       Financial District/South Beach     23\n",
       "4  2012      1    1     0  Sunday                       Haight Ashbury      1"
      ]
     },
     "execution_count": 5,
     "metadata": {},
     "output_type": "execute_result"
    }
   ],
   "source": [
    "count_test.head(5)"
   ]
  },
  {
   "cell_type": "markdown",
   "id": "fcd2dcc6",
   "metadata": {},
   "source": [
    "**1.2. Nombre d'appels par catégorie par heure, date et lieu**"
   ]
  },
  {
   "cell_type": "code",
   "execution_count": 6,
   "id": "875cd178",
   "metadata": {},
   "outputs": [],
   "source": [
    "dum = pd.get_dummies(df[['year', 'month', 'day', 'hour', 'weekday', 'Neighborhooods - Analysis Boundaries', \n",
    "                         'Call Category']], columns=['Call Category'])\n",
    "\n",
    "dum2 = dum.groupby(['year', 'month', 'day', 'hour', 'weekday',\n",
    "                    'Neighborhooods - Analysis Boundaries']).sum().reset_index()"
   ]
  },
  {
   "cell_type": "code",
   "execution_count": 7,
   "id": "b8f9c250",
   "metadata": {},
   "outputs": [
    {
     "data": {
      "text/html": [
       "<div>\n",
       "<style scoped>\n",
       "    .dataframe tbody tr th:only-of-type {\n",
       "        vertical-align: middle;\n",
       "    }\n",
       "\n",
       "    .dataframe tbody tr th {\n",
       "        vertical-align: top;\n",
       "    }\n",
       "\n",
       "    .dataframe thead th {\n",
       "        text-align: right;\n",
       "    }\n",
       "</style>\n",
       "<table border=\"1\" class=\"dataframe\">\n",
       "  <thead>\n",
       "    <tr style=\"text-align: right;\">\n",
       "      <th></th>\n",
       "      <th>year</th>\n",
       "      <th>month</th>\n",
       "      <th>day</th>\n",
       "      <th>hour</th>\n",
       "      <th>weekday</th>\n",
       "      <th>Neighborhooods - Analysis Boundaries</th>\n",
       "      <th>Call Category_Alarms</th>\n",
       "      <th>Call Category_Fire</th>\n",
       "      <th>Call Category_Incidents</th>\n",
       "      <th>Call Category_Medical Non Life-Threatening</th>\n",
       "      <th>Call Category_Medical Potentially Life-Threatening</th>\n",
       "      <th>Call Category_Other</th>\n",
       "    </tr>\n",
       "  </thead>\n",
       "  <tbody>\n",
       "    <tr>\n",
       "      <th>0</th>\n",
       "      <td>2012</td>\n",
       "      <td>1</td>\n",
       "      <td>1</td>\n",
       "      <td>0</td>\n",
       "      <td>Sunday</td>\n",
       "      <td>Bayview Hunters Point</td>\n",
       "      <td>0</td>\n",
       "      <td>1</td>\n",
       "      <td>0</td>\n",
       "      <td>1</td>\n",
       "      <td>0</td>\n",
       "      <td>0</td>\n",
       "    </tr>\n",
       "    <tr>\n",
       "      <th>1</th>\n",
       "      <td>2012</td>\n",
       "      <td>1</td>\n",
       "      <td>1</td>\n",
       "      <td>0</td>\n",
       "      <td>Sunday</td>\n",
       "      <td>Bernal Heights</td>\n",
       "      <td>0</td>\n",
       "      <td>0</td>\n",
       "      <td>0</td>\n",
       "      <td>0</td>\n",
       "      <td>1</td>\n",
       "      <td>0</td>\n",
       "    </tr>\n",
       "    <tr>\n",
       "      <th>2</th>\n",
       "      <td>2012</td>\n",
       "      <td>1</td>\n",
       "      <td>1</td>\n",
       "      <td>0</td>\n",
       "      <td>Sunday</td>\n",
       "      <td>Castro/Upper Market</td>\n",
       "      <td>0</td>\n",
       "      <td>0</td>\n",
       "      <td>1</td>\n",
       "      <td>0</td>\n",
       "      <td>0</td>\n",
       "      <td>0</td>\n",
       "    </tr>\n",
       "    <tr>\n",
       "      <th>3</th>\n",
       "      <td>2012</td>\n",
       "      <td>1</td>\n",
       "      <td>1</td>\n",
       "      <td>0</td>\n",
       "      <td>Sunday</td>\n",
       "      <td>Financial District/South Beach</td>\n",
       "      <td>0</td>\n",
       "      <td>1</td>\n",
       "      <td>2</td>\n",
       "      <td>6</td>\n",
       "      <td>13</td>\n",
       "      <td>1</td>\n",
       "    </tr>\n",
       "    <tr>\n",
       "      <th>4</th>\n",
       "      <td>2012</td>\n",
       "      <td>1</td>\n",
       "      <td>1</td>\n",
       "      <td>0</td>\n",
       "      <td>Sunday</td>\n",
       "      <td>Haight Ashbury</td>\n",
       "      <td>0</td>\n",
       "      <td>0</td>\n",
       "      <td>1</td>\n",
       "      <td>0</td>\n",
       "      <td>0</td>\n",
       "      <td>0</td>\n",
       "    </tr>\n",
       "    <tr>\n",
       "      <th>...</th>\n",
       "      <td>...</td>\n",
       "      <td>...</td>\n",
       "      <td>...</td>\n",
       "      <td>...</td>\n",
       "      <td>...</td>\n",
       "      <td>...</td>\n",
       "      <td>...</td>\n",
       "      <td>...</td>\n",
       "      <td>...</td>\n",
       "      <td>...</td>\n",
       "      <td>...</td>\n",
       "      <td>...</td>\n",
       "    </tr>\n",
       "    <tr>\n",
       "      <th>793071</th>\n",
       "      <td>2020</td>\n",
       "      <td>9</td>\n",
       "      <td>2</td>\n",
       "      <td>23</td>\n",
       "      <td>Wednesday</td>\n",
       "      <td>Pacific Heights</td>\n",
       "      <td>0</td>\n",
       "      <td>0</td>\n",
       "      <td>0</td>\n",
       "      <td>1</td>\n",
       "      <td>0</td>\n",
       "      <td>0</td>\n",
       "    </tr>\n",
       "    <tr>\n",
       "      <th>793072</th>\n",
       "      <td>2020</td>\n",
       "      <td>9</td>\n",
       "      <td>2</td>\n",
       "      <td>23</td>\n",
       "      <td>Wednesday</td>\n",
       "      <td>Russian Hill</td>\n",
       "      <td>0</td>\n",
       "      <td>0</td>\n",
       "      <td>0</td>\n",
       "      <td>0</td>\n",
       "      <td>1</td>\n",
       "      <td>0</td>\n",
       "    </tr>\n",
       "    <tr>\n",
       "      <th>793073</th>\n",
       "      <td>2020</td>\n",
       "      <td>9</td>\n",
       "      <td>2</td>\n",
       "      <td>23</td>\n",
       "      <td>Wednesday</td>\n",
       "      <td>South of Market</td>\n",
       "      <td>0</td>\n",
       "      <td>0</td>\n",
       "      <td>0</td>\n",
       "      <td>1</td>\n",
       "      <td>0</td>\n",
       "      <td>0</td>\n",
       "    </tr>\n",
       "    <tr>\n",
       "      <th>793074</th>\n",
       "      <td>2020</td>\n",
       "      <td>9</td>\n",
       "      <td>2</td>\n",
       "      <td>23</td>\n",
       "      <td>Wednesday</td>\n",
       "      <td>Tenderloin</td>\n",
       "      <td>0</td>\n",
       "      <td>0</td>\n",
       "      <td>1</td>\n",
       "      <td>0</td>\n",
       "      <td>0</td>\n",
       "      <td>0</td>\n",
       "    </tr>\n",
       "    <tr>\n",
       "      <th>793075</th>\n",
       "      <td>2020</td>\n",
       "      <td>9</td>\n",
       "      <td>2</td>\n",
       "      <td>23</td>\n",
       "      <td>Wednesday</td>\n",
       "      <td>West of Twin Peaks</td>\n",
       "      <td>0</td>\n",
       "      <td>0</td>\n",
       "      <td>0</td>\n",
       "      <td>0</td>\n",
       "      <td>1</td>\n",
       "      <td>0</td>\n",
       "    </tr>\n",
       "  </tbody>\n",
       "</table>\n",
       "<p>793076 rows × 12 columns</p>\n",
       "</div>"
      ],
      "text/plain": [
       "        year  month  day  hour    weekday  \\\n",
       "0       2012      1    1     0     Sunday   \n",
       "1       2012      1    1     0     Sunday   \n",
       "2       2012      1    1     0     Sunday   \n",
       "3       2012      1    1     0     Sunday   \n",
       "4       2012      1    1     0     Sunday   \n",
       "...      ...    ...  ...   ...        ...   \n",
       "793071  2020      9    2    23  Wednesday   \n",
       "793072  2020      9    2    23  Wednesday   \n",
       "793073  2020      9    2    23  Wednesday   \n",
       "793074  2020      9    2    23  Wednesday   \n",
       "793075  2020      9    2    23  Wednesday   \n",
       "\n",
       "       Neighborhooods - Analysis Boundaries  Call Category_Alarms  \\\n",
       "0                     Bayview Hunters Point                     0   \n",
       "1                            Bernal Heights                     0   \n",
       "2                       Castro/Upper Market                     0   \n",
       "3            Financial District/South Beach                     0   \n",
       "4                            Haight Ashbury                     0   \n",
       "...                                     ...                   ...   \n",
       "793071                      Pacific Heights                     0   \n",
       "793072                         Russian Hill                     0   \n",
       "793073                      South of Market                     0   \n",
       "793074                           Tenderloin                     0   \n",
       "793075                   West of Twin Peaks                     0   \n",
       "\n",
       "        Call Category_Fire  Call Category_Incidents  \\\n",
       "0                        1                        0   \n",
       "1                        0                        0   \n",
       "2                        0                        1   \n",
       "3                        1                        2   \n",
       "4                        0                        1   \n",
       "...                    ...                      ...   \n",
       "793071                   0                        0   \n",
       "793072                   0                        0   \n",
       "793073                   0                        0   \n",
       "793074                   0                        1   \n",
       "793075                   0                        0   \n",
       "\n",
       "        Call Category_Medical Non Life-Threatening  \\\n",
       "0                                                1   \n",
       "1                                                0   \n",
       "2                                                0   \n",
       "3                                                6   \n",
       "4                                                0   \n",
       "...                                            ...   \n",
       "793071                                           1   \n",
       "793072                                           0   \n",
       "793073                                           1   \n",
       "793074                                           0   \n",
       "793075                                           0   \n",
       "\n",
       "        Call Category_Medical Potentially Life-Threatening  \\\n",
       "0                                                       0    \n",
       "1                                                       1    \n",
       "2                                                       0    \n",
       "3                                                      13    \n",
       "4                                                       0    \n",
       "...                                                   ...    \n",
       "793071                                                  0    \n",
       "793072                                                  1    \n",
       "793073                                                  0    \n",
       "793074                                                  0    \n",
       "793075                                                  1    \n",
       "\n",
       "        Call Category_Other  \n",
       "0                         0  \n",
       "1                         0  \n",
       "2                         0  \n",
       "3                         1  \n",
       "4                         0  \n",
       "...                     ...  \n",
       "793071                    0  \n",
       "793072                    0  \n",
       "793073                    0  \n",
       "793074                    0  \n",
       "793075                    0  \n",
       "\n",
       "[793076 rows x 12 columns]"
      ]
     },
     "execution_count": 7,
     "metadata": {},
     "output_type": "execute_result"
    }
   ],
   "source": [
    "dum2"
   ]
  },
  {
   "cell_type": "markdown",
   "id": "d6dc8512",
   "metadata": {},
   "source": [
    "Dans notre base nous avons des heures manquantes (celles durant lesquelles aucun appel n'a été émis). Dans ce qui suit, afin que toutes les heures soient représentées, nous transformons notre base en ajoutant les heures inexistentes en affectant zéro comme nombre d'appels durant ces heures."
   ]
  },
  {
   "cell_type": "markdown",
   "id": "7d818e85",
   "metadata": {},
   "source": [
    "**1.3. Création d'un dataframe contenant toutes les heures entre le 01/01/2012 et le 31/12/2020**"
   ]
  },
  {
   "cell_type": "code",
   "execution_count": 8,
   "id": "b9fe73b8",
   "metadata": {},
   "outputs": [],
   "source": [
    "df_2012_2020 = pd.DataFrame(\n",
    "        {'Received DtTm': pd.date_range('2012-01-01', '2021-01-01', freq='1H', closed='left')})"
   ]
  },
  {
   "cell_type": "code",
   "execution_count": 9,
   "id": "b520eaf3",
   "metadata": {},
   "outputs": [
    {
     "data": {
      "text/html": [
       "<div>\n",
       "<style scoped>\n",
       "    .dataframe tbody tr th:only-of-type {\n",
       "        vertical-align: middle;\n",
       "    }\n",
       "\n",
       "    .dataframe tbody tr th {\n",
       "        vertical-align: top;\n",
       "    }\n",
       "\n",
       "    .dataframe thead th {\n",
       "        text-align: right;\n",
       "    }\n",
       "</style>\n",
       "<table border=\"1\" class=\"dataframe\">\n",
       "  <thead>\n",
       "    <tr style=\"text-align: right;\">\n",
       "      <th></th>\n",
       "      <th>Received DtTm</th>\n",
       "    </tr>\n",
       "  </thead>\n",
       "  <tbody>\n",
       "    <tr>\n",
       "      <th>0</th>\n",
       "      <td>2012-01-01 00:00:00</td>\n",
       "    </tr>\n",
       "    <tr>\n",
       "      <th>1</th>\n",
       "      <td>2012-01-01 01:00:00</td>\n",
       "    </tr>\n",
       "    <tr>\n",
       "      <th>2</th>\n",
       "      <td>2012-01-01 02:00:00</td>\n",
       "    </tr>\n",
       "    <tr>\n",
       "      <th>3</th>\n",
       "      <td>2012-01-01 03:00:00</td>\n",
       "    </tr>\n",
       "    <tr>\n",
       "      <th>4</th>\n",
       "      <td>2012-01-01 04:00:00</td>\n",
       "    </tr>\n",
       "    <tr>\n",
       "      <th>...</th>\n",
       "      <td>...</td>\n",
       "    </tr>\n",
       "    <tr>\n",
       "      <th>78907</th>\n",
       "      <td>2020-12-31 19:00:00</td>\n",
       "    </tr>\n",
       "    <tr>\n",
       "      <th>78908</th>\n",
       "      <td>2020-12-31 20:00:00</td>\n",
       "    </tr>\n",
       "    <tr>\n",
       "      <th>78909</th>\n",
       "      <td>2020-12-31 21:00:00</td>\n",
       "    </tr>\n",
       "    <tr>\n",
       "      <th>78910</th>\n",
       "      <td>2020-12-31 22:00:00</td>\n",
       "    </tr>\n",
       "    <tr>\n",
       "      <th>78911</th>\n",
       "      <td>2020-12-31 23:00:00</td>\n",
       "    </tr>\n",
       "  </tbody>\n",
       "</table>\n",
       "<p>78912 rows × 1 columns</p>\n",
       "</div>"
      ],
      "text/plain": [
       "            Received DtTm\n",
       "0     2012-01-01 00:00:00\n",
       "1     2012-01-01 01:00:00\n",
       "2     2012-01-01 02:00:00\n",
       "3     2012-01-01 03:00:00\n",
       "4     2012-01-01 04:00:00\n",
       "...                   ...\n",
       "78907 2020-12-31 19:00:00\n",
       "78908 2020-12-31 20:00:00\n",
       "78909 2020-12-31 21:00:00\n",
       "78910 2020-12-31 22:00:00\n",
       "78911 2020-12-31 23:00:00\n",
       "\n",
       "[78912 rows x 1 columns]"
      ]
     },
     "execution_count": 9,
     "metadata": {},
     "output_type": "execute_result"
    }
   ],
   "source": [
    "df_2012_2020"
   ]
  },
  {
   "cell_type": "markdown",
   "id": "9bc5a9eb",
   "metadata": {},
   "source": [
    "**1.4. Produit cartésien entre les heures/dates et les 41 quartiers de San Francisco**"
   ]
  },
  {
   "cell_type": "code",
   "execution_count": 10,
   "id": "a252be3b",
   "metadata": {
    "scrolled": true
   },
   "outputs": [
    {
     "data": {
      "text/html": [
       "<div>\n",
       "<style scoped>\n",
       "    .dataframe tbody tr th:only-of-type {\n",
       "        vertical-align: middle;\n",
       "    }\n",
       "\n",
       "    .dataframe tbody tr th {\n",
       "        vertical-align: top;\n",
       "    }\n",
       "\n",
       "    .dataframe thead th {\n",
       "        text-align: right;\n",
       "    }\n",
       "</style>\n",
       "<table border=\"1\" class=\"dataframe\">\n",
       "  <thead>\n",
       "    <tr style=\"text-align: right;\">\n",
       "      <th></th>\n",
       "      <th>Received DtTm</th>\n",
       "      <th>Neighborhooods - Analysis Boundaries</th>\n",
       "    </tr>\n",
       "  </thead>\n",
       "  <tbody>\n",
       "    <tr>\n",
       "      <th>0</th>\n",
       "      <td>2012-01-01</td>\n",
       "      <td>Financial District/South Beach</td>\n",
       "    </tr>\n",
       "    <tr>\n",
       "      <th>1</th>\n",
       "      <td>2012-01-01</td>\n",
       "      <td>Western Addition</td>\n",
       "    </tr>\n",
       "    <tr>\n",
       "      <th>2</th>\n",
       "      <td>2012-01-01</td>\n",
       "      <td>Hayes Valley</td>\n",
       "    </tr>\n",
       "    <tr>\n",
       "      <th>3</th>\n",
       "      <td>2012-01-01</td>\n",
       "      <td>South of Market</td>\n",
       "    </tr>\n",
       "    <tr>\n",
       "      <th>4</th>\n",
       "      <td>2012-01-01</td>\n",
       "      <td>Treasure Island</td>\n",
       "    </tr>\n",
       "    <tr>\n",
       "      <th>5</th>\n",
       "      <td>2012-01-01</td>\n",
       "      <td>Bernal Heights</td>\n",
       "    </tr>\n",
       "    <tr>\n",
       "      <th>6</th>\n",
       "      <td>2012-01-01</td>\n",
       "      <td>Mission</td>\n",
       "    </tr>\n",
       "    <tr>\n",
       "      <th>7</th>\n",
       "      <td>2012-01-01</td>\n",
       "      <td>Marina</td>\n",
       "    </tr>\n",
       "    <tr>\n",
       "      <th>8</th>\n",
       "      <td>2012-01-01</td>\n",
       "      <td>Inner Sunset</td>\n",
       "    </tr>\n",
       "    <tr>\n",
       "      <th>9</th>\n",
       "      <td>2012-01-01</td>\n",
       "      <td>North Beach</td>\n",
       "    </tr>\n",
       "  </tbody>\n",
       "</table>\n",
       "</div>"
      ],
      "text/plain": [
       "  Received DtTm Neighborhooods - Analysis Boundaries\n",
       "0    2012-01-01       Financial District/South Beach\n",
       "1    2012-01-01                     Western Addition\n",
       "2    2012-01-01                         Hayes Valley\n",
       "3    2012-01-01                      South of Market\n",
       "4    2012-01-01                      Treasure Island\n",
       "5    2012-01-01                       Bernal Heights\n",
       "6    2012-01-01                              Mission\n",
       "7    2012-01-01                               Marina\n",
       "8    2012-01-01                         Inner Sunset\n",
       "9    2012-01-01                          North Beach"
      ]
     },
     "execution_count": 10,
     "metadata": {},
     "output_type": "execute_result"
    }
   ],
   "source": [
    "# Pour chaque date il affiche les 41 quartiers\n",
    "df_cartesian = df_2012_2020.merge(pd.DataFrame(df['Neighborhooods - Analysis Boundaries'].unique(),\n",
    "                                               columns=[\"Neighborhooods - Analysis Boundaries\"]), how='cross')\n",
    "df_cartesian.head(10)"
   ]
  },
  {
   "cell_type": "code",
   "execution_count": 11,
   "id": "3a482524",
   "metadata": {},
   "outputs": [],
   "source": [
    "df_cartesian = df_2012_2020.merge(pd.DataFrame(df['Neighborhooods - Analysis Boundaries'].unique(),\n",
    "                                               columns=[\"Neighborhooods - Analysis Boundaries\"]), how='cross')\n",
    "\n",
    "df_cartesian['year'] = df_cartesian['Received DtTm'].dt.year\n",
    "df_cartesian['month'] = df_cartesian['Received DtTm'].dt.month\n",
    "df_cartesian['day'] = df_cartesian['Received DtTm'].dt.day\n",
    "df_cartesian['hour'] = df_cartesian['Received DtTm'].dt.hour\n",
    "df_cartesian[\"weekday\"] = df_cartesian['Received DtTm'].dt.day_name()\n",
    "\n",
    "\n",
    "df_cartesian = df_cartesian.drop(columns='Received DtTm')"
   ]
  },
  {
   "cell_type": "code",
   "execution_count": 12,
   "id": "f396222a",
   "metadata": {},
   "outputs": [
    {
     "data": {
      "text/plain": [
       "(3235392, 6)"
      ]
     },
     "execution_count": 12,
     "metadata": {},
     "output_type": "execute_result"
    }
   ],
   "source": [
    "df_cartesian.shape"
   ]
  },
  {
   "cell_type": "code",
   "execution_count": 13,
   "id": "c49e6ecc",
   "metadata": {},
   "outputs": [
    {
     "data": {
      "text/plain": [
       "3235392"
      ]
     },
     "execution_count": 13,
     "metadata": {},
     "output_type": "execute_result"
    }
   ],
   "source": [
    "df_2012_2020.shape[0]*41"
   ]
  },
  {
   "cell_type": "markdown",
   "id": "2b83e170",
   "metadata": {},
   "source": [
    "**1.5. Fusion de nos 2 bases de données afin d'avoir pour chaque heure, date et lieu, le nombre d'appels (qui peut donc être nul)**"
   ]
  },
  {
   "cell_type": "markdown",
   "id": "dddaba7a",
   "metadata": {},
   "source": [
    "Nous fusionnons les deux bases afin d'avoir toutes les dates et toutes les heures et le nombre d'incidents \n",
    "par heure : si la ligne (heure, jour, année,...) existe dans count_test on aura le nombre d'appel, si la ligne\n",
    "n'existe pas on aura une variable manquante."
   ]
  },
  {
   "cell_type": "code",
   "execution_count": 14,
   "id": "e1fbbf3e",
   "metadata": {},
   "outputs": [
    {
     "data": {
      "text/html": [
       "<div>\n",
       "<style scoped>\n",
       "    .dataframe tbody tr th:only-of-type {\n",
       "        vertical-align: middle;\n",
       "    }\n",
       "\n",
       "    .dataframe tbody tr th {\n",
       "        vertical-align: top;\n",
       "    }\n",
       "\n",
       "    .dataframe thead th {\n",
       "        text-align: right;\n",
       "    }\n",
       "</style>\n",
       "<table border=\"1\" class=\"dataframe\">\n",
       "  <thead>\n",
       "    <tr style=\"text-align: right;\">\n",
       "      <th></th>\n",
       "      <th>Neighborhooods - Analysis Boundaries</th>\n",
       "      <th>year</th>\n",
       "      <th>month</th>\n",
       "      <th>day</th>\n",
       "      <th>hour</th>\n",
       "      <th>weekday</th>\n",
       "      <th>count</th>\n",
       "    </tr>\n",
       "  </thead>\n",
       "  <tbody>\n",
       "    <tr>\n",
       "      <th>0</th>\n",
       "      <td>Financial District/South Beach</td>\n",
       "      <td>2012</td>\n",
       "      <td>1</td>\n",
       "      <td>1</td>\n",
       "      <td>0</td>\n",
       "      <td>Sunday</td>\n",
       "      <td>23.0</td>\n",
       "    </tr>\n",
       "    <tr>\n",
       "      <th>1</th>\n",
       "      <td>Western Addition</td>\n",
       "      <td>2012</td>\n",
       "      <td>1</td>\n",
       "      <td>1</td>\n",
       "      <td>0</td>\n",
       "      <td>Sunday</td>\n",
       "      <td>3.0</td>\n",
       "    </tr>\n",
       "    <tr>\n",
       "      <th>2</th>\n",
       "      <td>Hayes Valley</td>\n",
       "      <td>2012</td>\n",
       "      <td>1</td>\n",
       "      <td>1</td>\n",
       "      <td>0</td>\n",
       "      <td>Sunday</td>\n",
       "      <td>4.0</td>\n",
       "    </tr>\n",
       "    <tr>\n",
       "      <th>3</th>\n",
       "      <td>South of Market</td>\n",
       "      <td>2012</td>\n",
       "      <td>1</td>\n",
       "      <td>1</td>\n",
       "      <td>0</td>\n",
       "      <td>Sunday</td>\n",
       "      <td>4.0</td>\n",
       "    </tr>\n",
       "    <tr>\n",
       "      <th>4</th>\n",
       "      <td>Treasure Island</td>\n",
       "      <td>2012</td>\n",
       "      <td>1</td>\n",
       "      <td>1</td>\n",
       "      <td>0</td>\n",
       "      <td>Sunday</td>\n",
       "      <td>2.0</td>\n",
       "    </tr>\n",
       "    <tr>\n",
       "      <th>...</th>\n",
       "      <td>...</td>\n",
       "      <td>...</td>\n",
       "      <td>...</td>\n",
       "      <td>...</td>\n",
       "      <td>...</td>\n",
       "      <td>...</td>\n",
       "      <td>...</td>\n",
       "    </tr>\n",
       "    <tr>\n",
       "      <th>3235387</th>\n",
       "      <td>Presidio Heights</td>\n",
       "      <td>2020</td>\n",
       "      <td>12</td>\n",
       "      <td>31</td>\n",
       "      <td>23</td>\n",
       "      <td>Thursday</td>\n",
       "      <td>0.0</td>\n",
       "    </tr>\n",
       "    <tr>\n",
       "      <th>3235388</th>\n",
       "      <td>Seacliff</td>\n",
       "      <td>2020</td>\n",
       "      <td>12</td>\n",
       "      <td>31</td>\n",
       "      <td>23</td>\n",
       "      <td>Thursday</td>\n",
       "      <td>0.0</td>\n",
       "    </tr>\n",
       "    <tr>\n",
       "      <th>3235389</th>\n",
       "      <td>Glen Park</td>\n",
       "      <td>2020</td>\n",
       "      <td>12</td>\n",
       "      <td>31</td>\n",
       "      <td>23</td>\n",
       "      <td>Thursday</td>\n",
       "      <td>0.0</td>\n",
       "    </tr>\n",
       "    <tr>\n",
       "      <th>3235390</th>\n",
       "      <td>McLaren Park</td>\n",
       "      <td>2020</td>\n",
       "      <td>12</td>\n",
       "      <td>31</td>\n",
       "      <td>23</td>\n",
       "      <td>Thursday</td>\n",
       "      <td>0.0</td>\n",
       "    </tr>\n",
       "    <tr>\n",
       "      <th>3235391</th>\n",
       "      <td>Lincoln Park</td>\n",
       "      <td>2020</td>\n",
       "      <td>12</td>\n",
       "      <td>31</td>\n",
       "      <td>23</td>\n",
       "      <td>Thursday</td>\n",
       "      <td>0.0</td>\n",
       "    </tr>\n",
       "  </tbody>\n",
       "</table>\n",
       "<p>3235392 rows × 7 columns</p>\n",
       "</div>"
      ],
      "text/plain": [
       "        Neighborhooods - Analysis Boundaries  year  month  day  hour  \\\n",
       "0             Financial District/South Beach  2012      1    1     0   \n",
       "1                           Western Addition  2012      1    1     0   \n",
       "2                               Hayes Valley  2012      1    1     0   \n",
       "3                            South of Market  2012      1    1     0   \n",
       "4                            Treasure Island  2012      1    1     0   \n",
       "...                                      ...   ...    ...  ...   ...   \n",
       "3235387                     Presidio Heights  2020     12   31    23   \n",
       "3235388                             Seacliff  2020     12   31    23   \n",
       "3235389                            Glen Park  2020     12   31    23   \n",
       "3235390                         McLaren Park  2020     12   31    23   \n",
       "3235391                         Lincoln Park  2020     12   31    23   \n",
       "\n",
       "          weekday  count  \n",
       "0          Sunday   23.0  \n",
       "1          Sunday    3.0  \n",
       "2          Sunday    4.0  \n",
       "3          Sunday    4.0  \n",
       "4          Sunday    2.0  \n",
       "...           ...    ...  \n",
       "3235387  Thursday    0.0  \n",
       "3235388  Thursday    0.0  \n",
       "3235389  Thursday    0.0  \n",
       "3235390  Thursday    0.0  \n",
       "3235391  Thursday    0.0  \n",
       "\n",
       "[3235392 rows x 7 columns]"
      ]
     },
     "execution_count": 14,
     "metadata": {},
     "output_type": "execute_result"
    }
   ],
   "source": [
    "result = pd.merge(df_cartesian, count_test, on=[\"year\", \"month\", \"day\", \"hour\",\n",
    "                                                \"weekday\", \"Neighborhooods - Analysis Boundaries\"], how='left')\n",
    "\n",
    "result = result.fillna(0) # Remplacer les valeurs manquantes par zéro\n",
    "\n",
    "result"
   ]
  },
  {
   "cell_type": "markdown",
   "id": "932aaba8",
   "metadata": {},
   "source": [
    "**1.6. Fusion entre les 2 bases de données dans le même but que précédemment**"
   ]
  },
  {
   "cell_type": "markdown",
   "id": "06668d82",
   "metadata": {},
   "source": [
    "On aura toutes les heures des 8 années avec le nombre d'appels par heure."
   ]
  },
  {
   "cell_type": "code",
   "execution_count": 15,
   "id": "cfd20bd0",
   "metadata": {
    "scrolled": false
   },
   "outputs": [
    {
     "data": {
      "text/html": [
       "<div>\n",
       "<style scoped>\n",
       "    .dataframe tbody tr th:only-of-type {\n",
       "        vertical-align: middle;\n",
       "    }\n",
       "\n",
       "    .dataframe tbody tr th {\n",
       "        vertical-align: top;\n",
       "    }\n",
       "\n",
       "    .dataframe thead th {\n",
       "        text-align: right;\n",
       "    }\n",
       "</style>\n",
       "<table border=\"1\" class=\"dataframe\">\n",
       "  <thead>\n",
       "    <tr style=\"text-align: right;\">\n",
       "      <th></th>\n",
       "      <th>Neighborhooods - Analysis Boundaries</th>\n",
       "      <th>year</th>\n",
       "      <th>month</th>\n",
       "      <th>day</th>\n",
       "      <th>hour</th>\n",
       "      <th>weekday</th>\n",
       "      <th>Call Category_Alarms</th>\n",
       "      <th>Call Category_Fire</th>\n",
       "      <th>Call Category_Incidents</th>\n",
       "      <th>Call Category_Medical Non Life-Threatening</th>\n",
       "      <th>Call Category_Medical Potentially Life-Threatening</th>\n",
       "      <th>Call Category_Other</th>\n",
       "    </tr>\n",
       "  </thead>\n",
       "  <tbody>\n",
       "    <tr>\n",
       "      <th>0</th>\n",
       "      <td>Financial District/South Beach</td>\n",
       "      <td>2012</td>\n",
       "      <td>1</td>\n",
       "      <td>1</td>\n",
       "      <td>0</td>\n",
       "      <td>Sunday</td>\n",
       "      <td>0.0</td>\n",
       "      <td>1.0</td>\n",
       "      <td>2.0</td>\n",
       "      <td>6.0</td>\n",
       "      <td>13.0</td>\n",
       "      <td>1.0</td>\n",
       "    </tr>\n",
       "    <tr>\n",
       "      <th>1</th>\n",
       "      <td>Western Addition</td>\n",
       "      <td>2012</td>\n",
       "      <td>1</td>\n",
       "      <td>1</td>\n",
       "      <td>0</td>\n",
       "      <td>Sunday</td>\n",
       "      <td>0.0</td>\n",
       "      <td>0.0</td>\n",
       "      <td>0.0</td>\n",
       "      <td>2.0</td>\n",
       "      <td>1.0</td>\n",
       "      <td>0.0</td>\n",
       "    </tr>\n",
       "    <tr>\n",
       "      <th>2</th>\n",
       "      <td>Hayes Valley</td>\n",
       "      <td>2012</td>\n",
       "      <td>1</td>\n",
       "      <td>1</td>\n",
       "      <td>0</td>\n",
       "      <td>Sunday</td>\n",
       "      <td>0.0</td>\n",
       "      <td>4.0</td>\n",
       "      <td>0.0</td>\n",
       "      <td>0.0</td>\n",
       "      <td>0.0</td>\n",
       "      <td>0.0</td>\n",
       "    </tr>\n",
       "    <tr>\n",
       "      <th>3</th>\n",
       "      <td>South of Market</td>\n",
       "      <td>2012</td>\n",
       "      <td>1</td>\n",
       "      <td>1</td>\n",
       "      <td>0</td>\n",
       "      <td>Sunday</td>\n",
       "      <td>0.0</td>\n",
       "      <td>0.0</td>\n",
       "      <td>0.0</td>\n",
       "      <td>2.0</td>\n",
       "      <td>2.0</td>\n",
       "      <td>0.0</td>\n",
       "    </tr>\n",
       "    <tr>\n",
       "      <th>4</th>\n",
       "      <td>Treasure Island</td>\n",
       "      <td>2012</td>\n",
       "      <td>1</td>\n",
       "      <td>1</td>\n",
       "      <td>0</td>\n",
       "      <td>Sunday</td>\n",
       "      <td>0.0</td>\n",
       "      <td>1.0</td>\n",
       "      <td>0.0</td>\n",
       "      <td>0.0</td>\n",
       "      <td>1.0</td>\n",
       "      <td>0.0</td>\n",
       "    </tr>\n",
       "    <tr>\n",
       "      <th>...</th>\n",
       "      <td>...</td>\n",
       "      <td>...</td>\n",
       "      <td>...</td>\n",
       "      <td>...</td>\n",
       "      <td>...</td>\n",
       "      <td>...</td>\n",
       "      <td>...</td>\n",
       "      <td>...</td>\n",
       "      <td>...</td>\n",
       "      <td>...</td>\n",
       "      <td>...</td>\n",
       "      <td>...</td>\n",
       "    </tr>\n",
       "    <tr>\n",
       "      <th>3235387</th>\n",
       "      <td>Presidio Heights</td>\n",
       "      <td>2020</td>\n",
       "      <td>12</td>\n",
       "      <td>31</td>\n",
       "      <td>23</td>\n",
       "      <td>Thursday</td>\n",
       "      <td>0.0</td>\n",
       "      <td>0.0</td>\n",
       "      <td>0.0</td>\n",
       "      <td>0.0</td>\n",
       "      <td>0.0</td>\n",
       "      <td>0.0</td>\n",
       "    </tr>\n",
       "    <tr>\n",
       "      <th>3235388</th>\n",
       "      <td>Seacliff</td>\n",
       "      <td>2020</td>\n",
       "      <td>12</td>\n",
       "      <td>31</td>\n",
       "      <td>23</td>\n",
       "      <td>Thursday</td>\n",
       "      <td>0.0</td>\n",
       "      <td>0.0</td>\n",
       "      <td>0.0</td>\n",
       "      <td>0.0</td>\n",
       "      <td>0.0</td>\n",
       "      <td>0.0</td>\n",
       "    </tr>\n",
       "    <tr>\n",
       "      <th>3235389</th>\n",
       "      <td>Glen Park</td>\n",
       "      <td>2020</td>\n",
       "      <td>12</td>\n",
       "      <td>31</td>\n",
       "      <td>23</td>\n",
       "      <td>Thursday</td>\n",
       "      <td>0.0</td>\n",
       "      <td>0.0</td>\n",
       "      <td>0.0</td>\n",
       "      <td>0.0</td>\n",
       "      <td>0.0</td>\n",
       "      <td>0.0</td>\n",
       "    </tr>\n",
       "    <tr>\n",
       "      <th>3235390</th>\n",
       "      <td>McLaren Park</td>\n",
       "      <td>2020</td>\n",
       "      <td>12</td>\n",
       "      <td>31</td>\n",
       "      <td>23</td>\n",
       "      <td>Thursday</td>\n",
       "      <td>0.0</td>\n",
       "      <td>0.0</td>\n",
       "      <td>0.0</td>\n",
       "      <td>0.0</td>\n",
       "      <td>0.0</td>\n",
       "      <td>0.0</td>\n",
       "    </tr>\n",
       "    <tr>\n",
       "      <th>3235391</th>\n",
       "      <td>Lincoln Park</td>\n",
       "      <td>2020</td>\n",
       "      <td>12</td>\n",
       "      <td>31</td>\n",
       "      <td>23</td>\n",
       "      <td>Thursday</td>\n",
       "      <td>0.0</td>\n",
       "      <td>0.0</td>\n",
       "      <td>0.0</td>\n",
       "      <td>0.0</td>\n",
       "      <td>0.0</td>\n",
       "      <td>0.0</td>\n",
       "    </tr>\n",
       "  </tbody>\n",
       "</table>\n",
       "<p>3235392 rows × 12 columns</p>\n",
       "</div>"
      ],
      "text/plain": [
       "        Neighborhooods - Analysis Boundaries  year  month  day  hour  \\\n",
       "0             Financial District/South Beach  2012      1    1     0   \n",
       "1                           Western Addition  2012      1    1     0   \n",
       "2                               Hayes Valley  2012      1    1     0   \n",
       "3                            South of Market  2012      1    1     0   \n",
       "4                            Treasure Island  2012      1    1     0   \n",
       "...                                      ...   ...    ...  ...   ...   \n",
       "3235387                     Presidio Heights  2020     12   31    23   \n",
       "3235388                             Seacliff  2020     12   31    23   \n",
       "3235389                            Glen Park  2020     12   31    23   \n",
       "3235390                         McLaren Park  2020     12   31    23   \n",
       "3235391                         Lincoln Park  2020     12   31    23   \n",
       "\n",
       "          weekday  Call Category_Alarms  Call Category_Fire  \\\n",
       "0          Sunday                   0.0                 1.0   \n",
       "1          Sunday                   0.0                 0.0   \n",
       "2          Sunday                   0.0                 4.0   \n",
       "3          Sunday                   0.0                 0.0   \n",
       "4          Sunday                   0.0                 1.0   \n",
       "...           ...                   ...                 ...   \n",
       "3235387  Thursday                   0.0                 0.0   \n",
       "3235388  Thursday                   0.0                 0.0   \n",
       "3235389  Thursday                   0.0                 0.0   \n",
       "3235390  Thursday                   0.0                 0.0   \n",
       "3235391  Thursday                   0.0                 0.0   \n",
       "\n",
       "         Call Category_Incidents  Call Category_Medical Non Life-Threatening  \\\n",
       "0                            2.0                                         6.0   \n",
       "1                            0.0                                         2.0   \n",
       "2                            0.0                                         0.0   \n",
       "3                            0.0                                         2.0   \n",
       "4                            0.0                                         0.0   \n",
       "...                          ...                                         ...   \n",
       "3235387                      0.0                                         0.0   \n",
       "3235388                      0.0                                         0.0   \n",
       "3235389                      0.0                                         0.0   \n",
       "3235390                      0.0                                         0.0   \n",
       "3235391                      0.0                                         0.0   \n",
       "\n",
       "         Call Category_Medical Potentially Life-Threatening  \\\n",
       "0                                                     13.0    \n",
       "1                                                      1.0    \n",
       "2                                                      0.0    \n",
       "3                                                      2.0    \n",
       "4                                                      1.0    \n",
       "...                                                    ...    \n",
       "3235387                                                0.0    \n",
       "3235388                                                0.0    \n",
       "3235389                                                0.0    \n",
       "3235390                                                0.0    \n",
       "3235391                                                0.0    \n",
       "\n",
       "         Call Category_Other  \n",
       "0                        1.0  \n",
       "1                        0.0  \n",
       "2                        0.0  \n",
       "3                        0.0  \n",
       "4                        0.0  \n",
       "...                      ...  \n",
       "3235387                  0.0  \n",
       "3235388                  0.0  \n",
       "3235389                  0.0  \n",
       "3235390                  0.0  \n",
       "3235391                  0.0  \n",
       "\n",
       "[3235392 rows x 12 columns]"
      ]
     },
     "execution_count": 15,
     "metadata": {},
     "output_type": "execute_result"
    }
   ],
   "source": [
    "result_dum = pd.merge(df_cartesian, dum2, on=[\"year\", \"month\", \"day\", \"hour\", \"weekday\",\n",
    "                                              \"Neighborhooods - Analysis Boundaries\"], how='left')\n",
    "\n",
    "result_dum = result_dum.fillna(0)\n",
    "\n",
    "result_dum"
   ]
  },
  {
   "cell_type": "code",
   "execution_count": 16,
   "id": "902d310f",
   "metadata": {},
   "outputs": [],
   "source": [
    "df2=result_dum.copy()"
   ]
  },
  {
   "cell_type": "markdown",
   "id": "e834fead",
   "metadata": {},
   "source": [
    "**1.7. Notre base de données est très grande pour accélérer les algo de ML nous limitons nos données à l'année 2019**"
   ]
  },
  {
   "cell_type": "code",
   "execution_count": 17,
   "id": "573b2e4f",
   "metadata": {},
   "outputs": [
    {
     "data": {
      "text/plain": [
       "(359160, 12)"
      ]
     },
     "execution_count": 17,
     "metadata": {},
     "output_type": "execute_result"
    }
   ],
   "source": [
    "df2 = df2[(df2['year']>2018) & (df2['year']<2020)]\n",
    "df2.shape"
   ]
  },
  {
   "cell_type": "code",
   "execution_count": 19,
   "id": "a7519356",
   "metadata": {},
   "outputs": [],
   "source": [
    "df3=df2"
   ]
  },
  {
   "cell_type": "markdown",
   "id": "2d4d3c1f",
   "metadata": {},
   "source": [
    "# 2. Preprocessing des données"
   ]
  },
  {
   "cell_type": "markdown",
   "id": "d23188b7",
   "metadata": {},
   "source": [
    "**2.1. Encodage variables catégorielles**"
   ]
  },
  {
   "cell_type": "code",
   "execution_count": 20,
   "id": "dbef6852",
   "metadata": {
    "scrolled": true
   },
   "outputs": [
    {
     "data": {
      "text/html": [
       "<div>\n",
       "<style scoped>\n",
       "    .dataframe tbody tr th:only-of-type {\n",
       "        vertical-align: middle;\n",
       "    }\n",
       "\n",
       "    .dataframe tbody tr th {\n",
       "        vertical-align: top;\n",
       "    }\n",
       "\n",
       "    .dataframe thead th {\n",
       "        text-align: right;\n",
       "    }\n",
       "</style>\n",
       "<table border=\"1\" class=\"dataframe\">\n",
       "  <thead>\n",
       "    <tr style=\"text-align: right;\">\n",
       "      <th></th>\n",
       "      <th>Neighborhooods - Analysis Boundaries</th>\n",
       "      <th>year</th>\n",
       "      <th>month</th>\n",
       "      <th>day</th>\n",
       "      <th>hour</th>\n",
       "      <th>weekday</th>\n",
       "      <th>Call Category_Alarms</th>\n",
       "      <th>Call Category_Fire</th>\n",
       "      <th>Call Category_Incidents</th>\n",
       "      <th>Call Category_Medical Non Life-Threatening</th>\n",
       "      <th>Call Category_Medical Potentially Life-Threatening</th>\n",
       "      <th>Call Category_Other</th>\n",
       "    </tr>\n",
       "  </thead>\n",
       "  <tbody>\n",
       "    <tr>\n",
       "      <th>2516088</th>\n",
       "      <td>5</td>\n",
       "      <td>2019</td>\n",
       "      <td>1</td>\n",
       "      <td>1</td>\n",
       "      <td>0</td>\n",
       "      <td>5</td>\n",
       "      <td>0.0</td>\n",
       "      <td>0.0</td>\n",
       "      <td>0.0</td>\n",
       "      <td>1.0</td>\n",
       "      <td>3.0</td>\n",
       "      <td>0.0</td>\n",
       "    </tr>\n",
       "    <tr>\n",
       "      <th>2516089</th>\n",
       "      <td>40</td>\n",
       "      <td>2019</td>\n",
       "      <td>1</td>\n",
       "      <td>1</td>\n",
       "      <td>0</td>\n",
       "      <td>5</td>\n",
       "      <td>0.0</td>\n",
       "      <td>0.0</td>\n",
       "      <td>0.0</td>\n",
       "      <td>0.0</td>\n",
       "      <td>0.0</td>\n",
       "      <td>0.0</td>\n",
       "    </tr>\n",
       "    <tr>\n",
       "      <th>2516090</th>\n",
       "      <td>9</td>\n",
       "      <td>2019</td>\n",
       "      <td>1</td>\n",
       "      <td>1</td>\n",
       "      <td>0</td>\n",
       "      <td>5</td>\n",
       "      <td>0.0</td>\n",
       "      <td>0.0</td>\n",
       "      <td>0.0</td>\n",
       "      <td>0.0</td>\n",
       "      <td>0.0</td>\n",
       "      <td>0.0</td>\n",
       "    </tr>\n",
       "    <tr>\n",
       "      <th>2516091</th>\n",
       "      <td>33</td>\n",
       "      <td>2019</td>\n",
       "      <td>1</td>\n",
       "      <td>1</td>\n",
       "      <td>0</td>\n",
       "      <td>5</td>\n",
       "      <td>0.0</td>\n",
       "      <td>0.0</td>\n",
       "      <td>0.0</td>\n",
       "      <td>0.0</td>\n",
       "      <td>1.0</td>\n",
       "      <td>0.0</td>\n",
       "    </tr>\n",
       "    <tr>\n",
       "      <th>2516092</th>\n",
       "      <td>36</td>\n",
       "      <td>2019</td>\n",
       "      <td>1</td>\n",
       "      <td>1</td>\n",
       "      <td>0</td>\n",
       "      <td>5</td>\n",
       "      <td>0.0</td>\n",
       "      <td>0.0</td>\n",
       "      <td>0.0</td>\n",
       "      <td>0.0</td>\n",
       "      <td>1.0</td>\n",
       "      <td>0.0</td>\n",
       "    </tr>\n",
       "  </tbody>\n",
       "</table>\n",
       "</div>"
      ],
      "text/plain": [
       "         Neighborhooods - Analysis Boundaries  year  month  day  hour  \\\n",
       "2516088                                     5  2019      1    1     0   \n",
       "2516089                                    40  2019      1    1     0   \n",
       "2516090                                     9  2019      1    1     0   \n",
       "2516091                                    33  2019      1    1     0   \n",
       "2516092                                    36  2019      1    1     0   \n",
       "\n",
       "         weekday  Call Category_Alarms  Call Category_Fire  \\\n",
       "2516088        5                   0.0                 0.0   \n",
       "2516089        5                   0.0                 0.0   \n",
       "2516090        5                   0.0                 0.0   \n",
       "2516091        5                   0.0                 0.0   \n",
       "2516092        5                   0.0                 0.0   \n",
       "\n",
       "         Call Category_Incidents  Call Category_Medical Non Life-Threatening  \\\n",
       "2516088                      0.0                                         1.0   \n",
       "2516089                      0.0                                         0.0   \n",
       "2516090                      0.0                                         0.0   \n",
       "2516091                      0.0                                         0.0   \n",
       "2516092                      0.0                                         0.0   \n",
       "\n",
       "         Call Category_Medical Potentially Life-Threatening  \\\n",
       "2516088                                                3.0    \n",
       "2516089                                                0.0    \n",
       "2516090                                                0.0    \n",
       "2516091                                                1.0    \n",
       "2516092                                                1.0    \n",
       "\n",
       "         Call Category_Other  \n",
       "2516088                  0.0  \n",
       "2516089                  0.0  \n",
       "2516090                  0.0  \n",
       "2516091                  0.0  \n",
       "2516092                  0.0  "
      ]
     },
     "execution_count": 20,
     "metadata": {},
     "output_type": "execute_result"
    }
   ],
   "source": [
    "categorical_features= ['Neighborhooods - Analysis Boundaries', \"weekday\"]\n",
    "\n",
    "df3[categorical_features]=df3[categorical_features].apply(LabelEncoder().fit_transform)\n",
    "df3.head()"
   ]
  },
  {
   "cell_type": "markdown",
   "id": "f42aab87",
   "metadata": {},
   "source": [
    "**2.2. Choix de nos variables target**"
   ]
  },
  {
   "cell_type": "code",
   "execution_count": 21,
   "id": "a08436bd",
   "metadata": {},
   "outputs": [],
   "source": [
    "y_columns=['Call Category_Alarms', 'Call Category_Fire', 'Call Category_Incidents','Call Category_Medical Non Life-Threatening','Call Category_Medical Potentially Life-Threatening',\n",
    "       'Call Category_Other']"
   ]
  },
  {
   "cell_type": "code",
   "execution_count": 22,
   "id": "b125b474",
   "metadata": {
    "scrolled": true
   },
   "outputs": [
    {
     "data": {
      "text/plain": [
       "dtype('float64')"
      ]
     },
     "execution_count": 22,
     "metadata": {},
     "output_type": "execute_result"
    }
   ],
   "source": [
    "df3[\"Call Category_Medical Non Life-Threatening\"].dtype"
   ]
  },
  {
   "cell_type": "code",
   "execution_count": 23,
   "id": "ab319cfc",
   "metadata": {},
   "outputs": [],
   "source": [
    "df3[y_columns] = df3[y_columns].astype(int)\n"
   ]
  },
  {
   "cell_type": "markdown",
   "id": "c23d3046",
   "metadata": {},
   "source": [
    "**2.3. Choix des variables numériques et catégorielles pour la prédiction**"
   ]
  },
  {
   "cell_type": "code",
   "execution_count": 97,
   "id": "090f2492",
   "metadata": {},
   "outputs": [],
   "source": [
    "categorical_features= ['Neighborhooods - Analysis Boundaries', \"weekday\"]\n",
    "numeric_features= [\"month\", \"day\", \"hour\"]\n",
    "\n",
    "#df3= df2.sample(n=50000)  #Selection aléatoire de n lignes\n",
    "features = numeric_features + categorical_features\n",
    "X = df3.drop(y_columns, axis=1)[features].to_numpy()\n",
    "y = df3[y_columns].to_numpy()"
   ]
  },
  {
   "cell_type": "code",
   "execution_count": 98,
   "id": "8e3d8183",
   "metadata": {},
   "outputs": [
    {
     "data": {
      "text/plain": [
       "(359160, 5)"
      ]
     },
     "execution_count": 98,
     "metadata": {},
     "output_type": "execute_result"
    }
   ],
   "source": [
    "X.shape"
   ]
  },
  {
   "cell_type": "markdown",
   "id": "94bd4fb9",
   "metadata": {},
   "source": [
    "**2.4. Diviser notre jeu de données en train et test**"
   ]
  },
  {
   "cell_type": "code",
   "execution_count": 25,
   "id": "559e96dc",
   "metadata": {},
   "outputs": [],
   "source": [
    "X_train, X_test, y_train, y_test = train_test_split( X, y, test_size=0.2)"
   ]
  },
  {
   "cell_type": "markdown",
   "id": "d3b2190d",
   "metadata": {},
   "source": [
    "# 3. Prédiction multiple du nombre d'incidents par catégorie et par heure"
   ]
  },
  {
   "cell_type": "markdown",
   "id": "c456ccf2",
   "metadata": {},
   "source": [
    "**3.1. KNN**"
   ]
  },
  {
   "cell_type": "code",
   "execution_count": 91,
   "id": "718d156a",
   "metadata": {
    "scrolled": true
   },
   "outputs": [
    {
     "name": "stdout",
     "output_type": "stream",
     "text": [
      "Returned hyperparameter: {'estimator__n_neighbors': 3}\n"
     ]
    }
   ],
   "source": [
    "multi_target_knn = MultiOutputRegressor( KNeighborsRegressor(), n_jobs=-1)\n",
    "\n",
    "parameters = {'estimator__n_neighbors':[1,2,3]} # defining parameter space\n",
    "\n",
    "clf1 = GridSearchCV(multi_target_knn, param_grid=parameters, cv=3)\n",
    "clf1.fit(X_train, y_train)\n",
    "\n",
    "print('Returned hyperparameter: {}'.format(clf1.best_params_))"
   ]
  },
  {
   "cell_type": "markdown",
   "id": "1944dde2",
   "metadata": {},
   "source": [
    "**clf1 : Comparaison des valeurs prédites et des valeurs dans test**"
   ]
  },
  {
   "cell_type": "code",
   "execution_count": 92,
   "id": "948d1877",
   "metadata": {},
   "outputs": [
    {
     "name": "stdout",
     "output_type": "stream",
     "text": [
      "nbre de valeurs supérieures à 1 dans chaque colonne de y_predict:  [   5    4    5  583 1239    3]\n",
      "nbre de valeurs supérieures à 1 dans chaque colonne de y_test:  [ 113   50   87 1405 2087   31]\n"
     ]
    }
   ],
   "source": [
    "y_predict=clf1.predict(X_test)\n",
    "print(\"nbre de valeurs supérieures à 1 dans chaque colonne de y_predict: \",sum(y_predict[:,:]>1))\n",
    "print(\"nbre de valeurs supérieures à 1 dans chaque colonne de y_test: \",sum(y_test[:,:]>1))"
   ]
  },
  {
   "cell_type": "markdown",
   "id": "c17bea4f",
   "metadata": {},
   "source": [
    "**clf1 : Accuracy par composante sur le nombre d'incidents pour chaque catégorie d'appel**"
   ]
  },
  {
   "cell_type": "markdown",
   "id": "5cc50d84",
   "metadata": {},
   "source": [
    "L'accuracy par composante représente la proportion de bonnes prédictions sur les données de test pour chaque catégorie d'appel."
   ]
  },
  {
   "cell_type": "code",
   "execution_count": 93,
   "id": "b1f3ce02",
   "metadata": {},
   "outputs": [],
   "source": [
    "def Performance(Classe):\n",
    "    perf=[]\n",
    "    y_predict=Classe.predict(X_test)\n",
    "    for i in range (y_test.shape[1]):\n",
    "        perf.append(sum(y_predict[:,i]==y_test[:,i])/y_test.shape[0])\n",
    "    return perf"
   ]
  },
  {
   "cell_type": "code",
   "execution_count": 94,
   "id": "6b3c53c0",
   "metadata": {
    "scrolled": true
   },
   "outputs": [
    {
     "data": {
      "text/plain": [
       "[0.8808191335338011,\n",
       " 0.9229034413631808,\n",
       " 0.914105134202027,\n",
       " 0.6468147900657089,\n",
       " 0.6003452500278428,\n",
       " 0.9278872925715559]"
      ]
     },
     "execution_count": 94,
     "metadata": {},
     "output_type": "execute_result"
    }
   ],
   "source": [
    "Performance(clf1)"
   ]
  },
  {
   "cell_type": "markdown",
   "id": "f9017479",
   "metadata": {},
   "source": [
    "Interprétation de la sortie précédente : le taux de bonne prédiction pour première catégorie d'appel ('Call Category_Alarms') est égale à 88%. Celui de la catégorie 'Call Category_Fire' est de 92%, celui de 'Call Category_Incidents' est de 91%, celui de 'Call Category_Medical Non Life-Threatening' est de 64%, celui de 'Call Category_Medical Potentially Life-Threatening' est de 60% et celui de'Call Category_Other' est de 92%."
   ]
  },
  {
   "cell_type": "markdown",
   "id": "488247d1",
   "metadata": {},
   "source": [
    "**clf 1 : Accuracy sur la prédiction multiple**"
   ]
  },
  {
   "cell_type": "markdown",
   "id": "a601aae0",
   "metadata": {},
   "source": [
    "L'accuracy multiple représente la proportion de bonnes prédictions (vectorielles) sur les données de test."
   ]
  },
  {
   "cell_type": "code",
   "execution_count": 95,
   "id": "b1c148ca",
   "metadata": {},
   "outputs": [
    {
     "name": "stdout",
     "output_type": "stream",
     "text": [
      "La performance sur le prédiction vectorielle de X_test est: 0.3480343022608308\n"
     ]
    }
   ],
   "source": [
    "def Performance_multiple(Classe):\n",
    "    y_predict=Classe.predict(X_test)\n",
    "    A=y_predict==y_test\n",
    "    nbre=0\n",
    "    for i in range(A.shape[0]):\n",
    "        if sum(A[i])==6:\n",
    "            nbre+=1\n",
    "    score=nbre/A.shape[0]        \n",
    "    return score\n",
    "print(\"La performance sur le prédiction vectorielle de X_test est:\", Performance_multiple(clf1))"
   ]
  },
  {
   "cell_type": "markdown",
   "id": "a9b3bc29",
   "metadata": {},
   "source": [
    "Interprétation : 34% des vecteurs, composés par les nombres d'appels des six catégories d'appel par heure, ont été correctement prédits."
   ]
  },
  {
   "cell_type": "markdown",
   "id": "25ff7046",
   "metadata": {},
   "source": [
    "**3.2. KNN avec la fonction de perte mean squared error**"
   ]
  },
  {
   "cell_type": "code",
   "execution_count": 31,
   "id": "9db0e873",
   "metadata": {},
   "outputs": [
    {
     "name": "stdout",
     "output_type": "stream",
     "text": [
      "Returned hyperparameter: {'estimator__n_neighbors': 1}\n",
      "Best mean squared error in train is: 0.1563532501763374\n",
      "Mean squared error on test is: 0.15356201507220552\n",
      "Temps d'exécution 32.0481538772583 seconds\n"
     ]
    }
   ],
   "source": [
    "start_time = time.time()\n",
    "\n",
    "multi_target_knn = MultiOutputRegressor( KNeighborsRegressor(), n_jobs=-1)\n",
    "\n",
    "mean_squared_score = make_scorer(mean_squared_error) # définir la fonction de perte mean squared error\n",
    "\n",
    "\n",
    "parameters = {'estimator__n_neighbors':[1,2,3]} # defining parameter space\n",
    "\n",
    "clf2 = GridSearchCV(multi_target_knn, param_grid=parameters, cv=3, scoring=mean_squared_score)\n",
    "clf2.fit(X_train, y_train)\n",
    "\n",
    "print('Returned hyperparameter: {}'.format(clf2.best_params_))\n",
    "print('Best mean squared error in train is: {}'.format(clf2.best_score_))\n",
    "print('Mean squared error on test is: {}'.format(clf2.score(X_test, y_test)))\n",
    "print(\"Temps d'exécution %s seconds\" % (time.time() - start_time))"
   ]
  },
  {
   "cell_type": "markdown",
   "id": "3b81f384",
   "metadata": {},
   "source": [
    "**clf2 : Comparaison des valeurs prédites et des valeurs dans test**"
   ]
  },
  {
   "cell_type": "code",
   "execution_count": 99,
   "id": "240eb181",
   "metadata": {},
   "outputs": [
    {
     "name": "stdout",
     "output_type": "stream",
     "text": [
      "nbre de valeurs supérieures à 1 dans chaque colonne de y_predict:  [  72   63   60 1221 1829   21]\n",
      "nbre de valeurs supérieures à 1 dans chaque colonne de y_test:  [ 113   50   87 1405 2087   31]\n"
     ]
    }
   ],
   "source": [
    "y_predict=clf2.predict(X_test)\n",
    "print(\"nbre de valeurs supérieures à 1 dans chaque colonne de y_predict: \",sum(y_predict[:,:]>1))\n",
    "print(\"nbre de valeurs supérieures à 1 dans chaque colonne de y_test: \",sum(y_test[:,:]>1))"
   ]
  },
  {
   "cell_type": "markdown",
   "id": "b05704c1",
   "metadata": {},
   "source": [
    "**clf2 : Performance sur la prédiction du nombre de chaque type d'appels**"
   ]
  },
  {
   "cell_type": "code",
   "execution_count": 62,
   "id": "22d30240",
   "metadata": {},
   "outputs": [
    {
     "data": {
      "text/plain": [
       "[0.9396647733600624,\n",
       " 0.961312506960686,\n",
       " 0.9559667000779597,\n",
       " 0.8079964361287448,\n",
       " 0.7767429557857223,\n",
       " 0.9638461966811449]"
      ]
     },
     "execution_count": 62,
     "metadata": {},
     "output_type": "execute_result"
    }
   ],
   "source": [
    "Performance(clf2)"
   ]
  },
  {
   "cell_type": "markdown",
   "id": "00f7aa8e",
   "metadata": {},
   "source": [
    "Le modèle KNN avec la fonction de perte mean squared error prédit relativement mieux que le KNN avec la fonction de perte par défaut.  "
   ]
  },
  {
   "cell_type": "markdown",
   "id": "d802b9e1",
   "metadata": {},
   "source": [
    "**clf2 : Performance sur la prédiction vectorielle des appels**"
   ]
  },
  {
   "cell_type": "code",
   "execution_count": 63,
   "id": "72b2f990",
   "metadata": {},
   "outputs": [
    {
     "name": "stdout",
     "output_type": "stream",
     "text": [
      "La performance sur le prédiction vectorielle de X_test est: 0.5758575565207706\n"
     ]
    }
   ],
   "source": [
    "print(\"La performance sur le prédiction vectorielle de X_test est:\", Performance_multiple(clf2))"
   ]
  },
  {
   "cell_type": "markdown",
   "id": "2374a6df",
   "metadata": {},
   "source": [
    "**clf2 : Matrice de confusin pour la catégorie 'Call Category_Medical Non Life-Threatening'**"
   ]
  },
  {
   "cell_type": "code",
   "execution_count": 100,
   "id": "49c1896f",
   "metadata": {
    "scrolled": true
   },
   "outputs": [
    {
     "data": {
      "text/plain": [
       "array([[57026,  5504,   674,   125,    24,     3,     0,     0],\n",
       "       [ 5827,   959,   221,    46,    15,     2,     1,     0],\n",
       "       [  833,   198,    48,    21,     4,     1,     0,     0],\n",
       "       [  162,    57,    23,     7,     1,     0,     0,     0],\n",
       "       [   25,    10,     1,     1,     0,     1,     0,     0],\n",
       "       [    5,     2,     1,     1,     0,     0,     0,     0],\n",
       "       [    1,     1,     0,     0,     0,     0,     0,     0],\n",
       "       [    1,     0,     0,     0,     0,     0,     0,     0]])"
      ]
     },
     "execution_count": 100,
     "metadata": {},
     "output_type": "execute_result"
    }
   ],
   "source": [
    "confusion_matrix(y_test[:,3], y_predict[:,3])"
   ]
  },
  {
   "cell_type": "markdown",
   "id": "96e7b221",
   "metadata": {},
   "source": [
    "D'après la matrice de confucion pour la catégorie 'Call Category_Medical Non Life-Threatening', la proportion des bonnes prédiction lorsque le nombre d'appel est nul est très important (proche de 1). Cependant, la proportion des bonnes prédiction sont très faibles pour les autres valeurs du nombre d'appel."
   ]
  },
  {
   "cell_type": "code",
   "execution_count": 101,
   "id": "3f843a93",
   "metadata": {},
   "outputs": [
    {
     "data": {
      "text/plain": [
       "array([1, 0, 2, 4, 3, 5, 7, 6])"
      ]
     },
     "execution_count": 101,
     "metadata": {},
     "output_type": "execute_result"
    }
   ],
   "source": [
    "df3['Call Category_Medical Non Life-Threatening'].unique()"
   ]
  },
  {
   "cell_type": "code",
   "execution_count": 68,
   "id": "61275f36",
   "metadata": {},
   "outputs": [
    {
     "data": {
      "text/plain": [
       "(71832, 6)"
      ]
     },
     "execution_count": 68,
     "metadata": {},
     "output_type": "execute_result"
    }
   ],
   "source": [
    "y_predict.shape"
   ]
  },
  {
   "cell_type": "code",
   "execution_count": 67,
   "id": "54ea5a79",
   "metadata": {},
   "outputs": [
    {
     "data": {
      "text/plain": [
       "array([69691, 70423, 70232, 63880, 62334, 70494])"
      ]
     },
     "execution_count": 67,
     "metadata": {},
     "output_type": "execute_result"
    }
   ],
   "source": [
    "sum(y_predict==0)"
   ]
  },
  {
   "cell_type": "code",
   "execution_count": 66,
   "id": "07423834",
   "metadata": {},
   "outputs": [
    {
     "data": {
      "text/plain": [
       "array([69691, 70423, 70232, 63880, 62334, 70494])"
      ]
     },
     "execution_count": 66,
     "metadata": {},
     "output_type": "execute_result"
    }
   ],
   "source": [
    "sum(y_predict==[0, 0, 0, 0, 0, 0])"
   ]
  },
  {
   "cell_type": "code",
   "execution_count": 102,
   "id": "4917d0fe",
   "metadata": {},
   "outputs": [
    {
     "data": {
      "text/plain": [
       "array([[0., 0., 0., 0., 0., 0.],\n",
       "       [0., 0., 0., 0., 1., 0.],\n",
       "       [0., 0., 0., 0., 0., 0.],\n",
       "       [0., 0., 0., 0., 0., 0.],\n",
       "       [0., 0., 0., 0., 0., 0.],\n",
       "       [0., 0., 0., 0., 0., 0.],\n",
       "       [0., 0., 0., 0., 0., 0.],\n",
       "       [0., 0., 0., 0., 0., 0.],\n",
       "       [0., 0., 0., 0., 0., 0.],\n",
       "       [0., 0., 0., 0., 0., 0.]])"
      ]
     },
     "execution_count": 102,
     "metadata": {},
     "output_type": "execute_result"
    }
   ],
   "source": [
    "y_predict[:10]"
   ]
  },
  {
   "cell_type": "markdown",
   "id": "225c4369",
   "metadata": {},
   "source": [
    "**3.3. Random Forest**"
   ]
  },
  {
   "cell_type": "code",
   "execution_count": 35,
   "id": "e1d258cb",
   "metadata": {},
   "outputs": [
    {
     "name": "stdout",
     "output_type": "stream",
     "text": [
      "Returned hyperparameter: {'estimator__n_estimators': 100}\n",
      "Accuracy in train is: 0.7147580465530683\n",
      "Accuracy on test is: 0.7119250473326652\n",
      "Temps d'exécution 335.6296899318695 seconds\n"
     ]
    }
   ],
   "source": [
    "start_time = time.time()\n",
    "multi_target_rf = MultiOutputClassifier( RandomForestClassifier(), n_jobs=-1)\n",
    "\n",
    "parameters = {'estimator__n_estimators': [15, 50, 100]} # defining parameter space\n",
    "\n",
    "\n",
    "clf3 = GridSearchCV(estimator=multi_target_rf, param_grid=parameters, cv=3)\n",
    "clf3.fit(X_train, y_train)\n",
    "\n",
    "print('Returned hyperparameter: {}'.format(clf3.best_params_))\n",
    "print('Accuracy in train is: {}'.format(clf3.best_score_))\n",
    "print('Accuracy on test is: {}'.format(clf3.score(X_test, y_test)))\n",
    "print(\"Temps d'exécution %s seconds\" % (time.time() - start_time))"
   ]
  },
  {
   "cell_type": "code",
   "execution_count": 73,
   "id": "1c8b6d41",
   "metadata": {},
   "outputs": [
    {
     "name": "stdout",
     "output_type": "stream",
     "text": [
      "nbre de valeurs supérieures à 1 dans chaque colonne de y_predict:  [  3   0   1 466 943   2]\n",
      "nbre de valeurs supérieures à 1 dans chaque colonne de y_test:  [ 113   50   87 1405 2087   31]\n"
     ]
    }
   ],
   "source": [
    "y_predict=clf3.predict(X_test)\n",
    "print(\"nbre de valeurs supérieures à 1 dans chaque colonne de y_predict: \",sum(y_predict[:,:]>1))\n",
    "print(\"nbre de valeurs supérieures à 1 dans chaque colonne de y_test: \",sum(y_test[:,:]>1))"
   ]
  },
  {
   "cell_type": "markdown",
   "id": "b6f8737d",
   "metadata": {},
   "source": [
    "**clf3 : Performance**"
   ]
  },
  {
   "cell_type": "code",
   "execution_count": 74,
   "id": "7f27130b",
   "metadata": {},
   "outputs": [
    {
     "data": {
      "text/plain": [
       "[0.964848535471656,\n",
       " 0.9785471656086424,\n",
       " 0.9756515202138323,\n",
       " 0.8728421873259828,\n",
       " 0.8494821249582358,\n",
       " 0.980593607305936]"
      ]
     },
     "execution_count": 74,
     "metadata": {},
     "output_type": "execute_result"
    }
   ],
   "source": [
    "Performance(clf3)"
   ]
  },
  {
   "cell_type": "markdown",
   "id": "693ef373",
   "metadata": {},
   "source": [
    "**clf3 : Accuracy**"
   ]
  },
  {
   "cell_type": "code",
   "execution_count": 38,
   "id": "dbb0bbb9",
   "metadata": {},
   "outputs": [
    {
     "name": "stdout",
     "output_type": "stream",
     "text": [
      "La performance sur le prédiction vectorielle de X_test est: 0.7119250473326652\n"
     ]
    }
   ],
   "source": [
    "print(\"La performance sur le prédiction vectorielle de X_test est:\", Performance_multiple(clf3))"
   ]
  },
  {
   "cell_type": "code",
   "execution_count": 81,
   "id": "739a1079",
   "metadata": {},
   "outputs": [
    {
     "data": {
      "text/plain": [
       "array([[0, 0, 0, 0, 0, 0],\n",
       "       [0, 0, 0, 0, 0, 0],\n",
       "       [0, 0, 0, 0, 0, 0],\n",
       "       [0, 0, 0, 0, 0, 0],\n",
       "       [0, 0, 0, 0, 0, 0],\n",
       "       [0, 0, 0, 0, 0, 0],\n",
       "       [0, 0, 0, 0, 0, 0],\n",
       "       [0, 0, 0, 0, 0, 0],\n",
       "       [0, 0, 0, 0, 0, 0],\n",
       "       [0, 0, 0, 0, 0, 0]])"
      ]
     },
     "execution_count": 81,
     "metadata": {},
     "output_type": "execute_result"
    }
   ],
   "source": [
    "y_predict[:10]"
   ]
  },
  {
   "cell_type": "markdown",
   "id": "cd656496",
   "metadata": {},
   "source": [
    "**clf3 : Matrice de confusion pour la catégorie'Call Category_Medical Non Life-Threatening'**"
   ]
  },
  {
   "cell_type": "code",
   "execution_count": 90,
   "id": "21f38b10",
   "metadata": {},
   "outputs": [
    {
     "data": {
      "text/plain": [
       "array([[62013,  1165,   143,    29,     4,     2,     0,     0],\n",
       "       [ 6287,   615,   131,    29,     8,     0,     1,     0],\n",
       "       [  771,   255,    66,    10,     3,     0,     0,     0],\n",
       "       [  142,    72,    32,     4,     0,     0,     0,     0],\n",
       "       [   16,    20,     1,     0,     0,     1,     0,     0],\n",
       "       [    3,     4,     2,     0,     0,     0,     0,     0],\n",
       "       [    1,     1,     0,     0,     0,     0,     0,     0],\n",
       "       [    0,     1,     0,     0,     0,     0,     0,     0]])"
      ]
     },
     "execution_count": 90,
     "metadata": {},
     "output_type": "execute_result"
    }
   ],
   "source": [
    "confusion_matrix(y_test[:,3], y_predict[:,3])"
   ]
  },
  {
   "cell_type": "code",
   "execution_count": 89,
   "id": "85263df6",
   "metadata": {},
   "outputs": [
    {
     "data": {
      "text/plain": [
       "array([1, 0, 2, 4, 3, 5, 7, 6])"
      ]
     },
     "execution_count": 89,
     "metadata": {},
     "output_type": "execute_result"
    }
   ],
   "source": [
    "df3['Call Category_Medical Non Life-Threatening'].unique()"
   ]
  },
  {
   "cell_type": "markdown",
   "id": "ac3c60f0",
   "metadata": {},
   "source": [
    "**3.4. Random Forest avec la fonction de perte mean squared error**"
   ]
  },
  {
   "cell_type": "code",
   "execution_count": 39,
   "id": "7c75a23b",
   "metadata": {},
   "outputs": [
    {
     "name": "stdout",
     "output_type": "stream",
     "text": [
      "Returned hyperparameter: {'estimator__n_estimators': 15}\n",
      "Best mean squared error in train is: 0.0983115695882986\n",
      "Mean squared error on test is: 0.09898327579166201\n",
      "Temps d'exécution 265.0703778266907 seconds\n"
     ]
    }
   ],
   "source": [
    "start_time = time.time()\n",
    "multi_target_rf = MultiOutputClassifier( RandomForestClassifier(), n_jobs=-1)\n",
    "\n",
    "parameters = {'estimator__n_estimators': [15, 50, 100]} # defining parameter space\n",
    "mean_squared_score = make_scorer(mean_squared_error)\n",
    "\n",
    "\n",
    "clf4 = GridSearchCV(estimator=multi_target_rf, param_grid=parameters, cv=3, scoring=mean_squared_score)\n",
    "clf4.fit(X_train, y_train)\n",
    "\n",
    "print('Returned hyperparameter: {}'.format(clf4.best_params_))\n",
    "print('Best mean squared error in train is: {}'.format(clf4.best_score_))\n",
    "print('Mean squared error on test is: {}'.format(clf4.score(X_test, y_test)))\n",
    "print(\"Temps d'exécution %s seconds\" % (time.time() - start_time))"
   ]
  },
  {
   "cell_type": "code",
   "execution_count": 40,
   "id": "ce69378b",
   "metadata": {},
   "outputs": [
    {
     "name": "stdout",
     "output_type": "stream",
     "text": [
      "nbre de valeurs supérieures à 1 dans chaque colonne de y_predict:  [ 15   5   3 452 980   2]\n",
      "nbre de valeurs supérieures à 1 dans chaque colonne de y_test:  [ 113   50   87 1405 2087   31]\n"
     ]
    }
   ],
   "source": [
    "y_predict=clf4.predict(X_test)\n",
    "print(\"nbre de valeurs supérieures à 1 dans chaque colonne de y_predict: \",sum(y_predict[:,:]>1))\n",
    "print(\"nbre de valeurs supérieures à 1 dans chaque colonne de y_test: \",sum(y_test[:,:]>1))"
   ]
  },
  {
   "cell_type": "markdown",
   "id": "09ffca79",
   "metadata": {},
   "source": [
    "**clf4 : Performance**"
   ]
  },
  {
   "cell_type": "code",
   "execution_count": 41,
   "id": "f758d56a",
   "metadata": {},
   "outputs": [
    {
     "data": {
      "text/plain": [
       "[0.963010914355719,\n",
       " 0.9772524780042321,\n",
       " 0.9738974273304377,\n",
       " 0.8676077514199799,\n",
       " 0.8438439692616104,\n",
       " 0.979786167724691]"
      ]
     },
     "execution_count": 41,
     "metadata": {},
     "output_type": "execute_result"
    }
   ],
   "source": [
    "Performance(clf4)"
   ]
  },
  {
   "cell_type": "markdown",
   "id": "c6b16e15",
   "metadata": {},
   "source": [
    "**clf4 : Accuracy**"
   ]
  },
  {
   "cell_type": "code",
   "execution_count": 42,
   "id": "5cab083d",
   "metadata": {
    "scrolled": true
   },
   "outputs": [
    {
     "name": "stdout",
     "output_type": "stream",
     "text": [
      "La performance sur le prédiction vectorielle de X_test est: 0.7013726472881168\n"
     ]
    }
   ],
   "source": [
    "print(\"La performance sur le prédiction vectorielle de X_test est:\", Performance_multiple(clf4))"
   ]
  },
  {
   "cell_type": "markdown",
   "id": "8e03bddb",
   "metadata": {},
   "source": [
    "**3.5. Régression logistique**"
   ]
  },
  {
   "cell_type": "code",
   "execution_count": 49,
   "id": "7ce27e00",
   "metadata": {},
   "outputs": [
    {
     "name": "stdout",
     "output_type": "stream",
     "text": [
      "Returned hyperparameter: {'estimator__C': 0.25}\n",
      "Best accuracy in train is: 0.7268591992426773\n",
      "Accuracy on test is: 0.7242872257489699\n"
     ]
    }
   ],
   "source": [
    "multi_target_LR = MultiOutputClassifier( LogisticRegression(max_iter=1000), n_jobs=-1)\n",
    "\n",
    "parameters = {'estimator__C': list(np.logspace(-2, 2, 5, base=2))} # defining parameter space\n",
    "\n",
    "clf5 = GridSearchCV(estimator=multi_target_LR, param_grid=parameters, cv=3)\n",
    "clf5.fit(X_train, y_train)\n",
    "\n",
    "print('Returned hyperparameter: {}'.format(clf5.best_params_))\n",
    "print('Best accuracy in train is: {}'.format(clf5.best_score_))\n",
    "print('Accuracy on test is: {}'.format(clf5.score(X_test, y_test)))"
   ]
  },
  {
   "cell_type": "code",
   "execution_count": 50,
   "id": "7753a4a6",
   "metadata": {},
   "outputs": [
    {
     "name": "stdout",
     "output_type": "stream",
     "text": [
      "nbre de valeurs supérieures à 1 dans chaque colonne de y_predict:  [0 0 0 0 0 0]\n",
      "nbre de valeurs supérieures à 1 dans chaque colonne de y_test:  [ 113   50   87 1405 2087   31]\n"
     ]
    }
   ],
   "source": [
    "y_predict=clf5.predict(X_test)\n",
    "print(\"nbre de valeurs supérieures à 1 dans chaque colonne de y_predict: \",sum(y_predict[:,:]>1))\n",
    "print(\"nbre de valeurs supérieures à 1 dans chaque colonne de y_test: \",sum(y_test[:,:]>1))"
   ]
  },
  {
   "cell_type": "markdown",
   "id": "ef6ec957",
   "metadata": {},
   "source": [
    "**clf5 : Performance**"
   ]
  },
  {
   "cell_type": "code",
   "execution_count": 51,
   "id": "16c26260",
   "metadata": {},
   "outputs": [
    {
     "data": {
      "text/plain": [
       "[0.966226751308609,\n",
       " 0.9790622563759884,\n",
       " 0.9762362178416305,\n",
       " 0.8820024501614879,\n",
       " 0.8580437687938524,\n",
       " 0.9810530125849204]"
      ]
     },
     "execution_count": 51,
     "metadata": {},
     "output_type": "execute_result"
    }
   ],
   "source": [
    "Performance(clf5)"
   ]
  },
  {
   "cell_type": "markdown",
   "id": "100a5620",
   "metadata": {},
   "source": [
    "**clf5 : Accuracy**"
   ]
  },
  {
   "cell_type": "code",
   "execution_count": 52,
   "id": "053a3e75",
   "metadata": {},
   "outputs": [
    {
     "name": "stdout",
     "output_type": "stream",
     "text": [
      "La performance sur le prédiction vectorielle de X_test est: 0.7242872257489699\n"
     ]
    }
   ],
   "source": [
    "print(\"La performance sur le prédiction vectorielle de X_test est:\", Performance_multiple(clf5))"
   ]
  },
  {
   "cell_type": "markdown",
   "id": "6c6785b1",
   "metadata": {},
   "source": [
    "**3.6. Régression logistique avec mean squarred error**"
   ]
  },
  {
   "cell_type": "code",
   "execution_count": 53,
   "id": "e0edfffa",
   "metadata": {},
   "outputs": [
    {
     "name": "stdout",
     "output_type": "stream",
     "text": [
      "Returned hyperparameter: {'estimator__C': 0.25}\n",
      "Mean squared error in train is: 0.09941367821212459\n",
      "Mean squared error on test is: 0.10078377324869138\n"
     ]
    }
   ],
   "source": [
    "multi_target_LR = MultiOutputClassifier( LogisticRegression(max_iter=1000), n_jobs=-1)\n",
    "mean_squared_score = make_scorer(mean_squared_error)\n",
    "\n",
    "parameters = {'estimator__C': list(np.logspace(-2, 2, 5, base=2))} # defining parameter space\n",
    "\n",
    "clf6 = GridSearchCV(estimator=multi_target_LR, param_grid=parameters, cv=3, scoring=mean_squared_score)\n",
    "clf6.fit(X_train, y_train)\n",
    "\n",
    "print('Returned hyperparameter: {}'.format(clf8.best_params_))\n",
    "print('Mean squared error in train is: {}'.format(clf8.best_score_))\n",
    "print('Mean squared error on test is: {}'.format(clf8.score(X_test, y_test)))"
   ]
  },
  {
   "cell_type": "code",
   "execution_count": 54,
   "id": "3779c772",
   "metadata": {},
   "outputs": [
    {
     "name": "stdout",
     "output_type": "stream",
     "text": [
      "nbre de valeurs supérieures à 1 dans chaque colonne de y_predict:  [0 0 0 0 0 0]\n",
      "nbre de valeurs supérieures à 1 dans chaque colonne de y_test:  [ 113   50   87 1405 2087   31]\n"
     ]
    }
   ],
   "source": [
    "y_predict=clf6.predict(X_test)\n",
    "print(\"nbre de valeurs supérieures à 1 dans chaque colonne de y_predict: \",sum(y_predict[:,:]>1))\n",
    "print(\"nbre de valeurs supérieures à 1 dans chaque colonne de y_test: \",sum(y_test[:,:]>1))"
   ]
  },
  {
   "cell_type": "markdown",
   "id": "f1d80eda",
   "metadata": {},
   "source": [
    "**clf6 : Performance**"
   ]
  },
  {
   "cell_type": "code",
   "execution_count": 55,
   "id": "0a5589e9",
   "metadata": {},
   "outputs": [
    {
     "data": {
      "text/plain": [
       "[0.966226751308609,\n",
       " 0.9790622563759884,\n",
       " 0.9762362178416305,\n",
       " 0.8820024501614879,\n",
       " 0.8580437687938524,\n",
       " 0.9810530125849204]"
      ]
     },
     "execution_count": 55,
     "metadata": {},
     "output_type": "execute_result"
    }
   ],
   "source": [
    "Performance(clf6)"
   ]
  },
  {
   "cell_type": "markdown",
   "id": "43d04231",
   "metadata": {},
   "source": [
    "**clf6 : Accuracy**"
   ]
  },
  {
   "cell_type": "code",
   "execution_count": 56,
   "id": "111db7f2",
   "metadata": {},
   "outputs": [
    {
     "name": "stdout",
     "output_type": "stream",
     "text": [
      "La performance sur le prédiction vectorielle de X_test est: 0.7242872257489699\n"
     ]
    }
   ],
   "source": [
    "print(\"La performance sur le prédiction vectorielle de X_test est:\", Performance_multiple(clf8))"
   ]
  },
  {
   "cell_type": "markdown",
   "id": "15108df8",
   "metadata": {},
   "source": [
    "# Fin"
   ]
  }
 ],
 "metadata": {
  "kernelspec": {
   "display_name": "Python 3",
   "language": "python",
   "name": "python3"
  },
  "language_info": {
   "codemirror_mode": {
    "name": "ipython",
    "version": 3
   },
   "file_extension": ".py",
   "mimetype": "text/x-python",
   "name": "python",
   "nbconvert_exporter": "python",
   "pygments_lexer": "ipython3",
   "version": "3.7.3"
  }
 },
 "nbformat": 4,
 "nbformat_minor": 5
}
